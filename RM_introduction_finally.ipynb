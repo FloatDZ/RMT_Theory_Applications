{
 "cells": [
  {
   "cell_type": "markdown",
   "metadata": {},
   "source": [
    "# Diving into Random Matrix Theory (RMT)\n"
   ]
  },
  {
   "cell_type": "markdown",
   "metadata": {},
   "source": [
    "### Random symmetric matrix (Furedi & Komlos)\n",
    "\n",
    "A = ($a_{ij}$) is an n$\\times$n matrix whose entries for i$\\ge$j are independent random variables and $a_{ji} = a_{ij}$.\n",
    "\n",
    "For every i > j, $\\mathbb{E} a_{ij}$ = $\\mu$, $\\mathbb{D}^2 a_{ij}$ = $\\sigma^2$ and $\\mathbb{E} a_{ii}$ = $\\nu$.\n",
    "\n",
    "For any c > 2 $\\sigma$ with the probability 1 - o(1), all eigenvalues except for at most o(n) lie in the interval $\\mathcal{I} = (- c \\sqrt{n}, c \\sqrt{n}$).\n",
    "\n",
    "If $\\mu$ = 0, with the probability 1 - o(1), all eigenvalues belong to $\\mathcal{I}$.\n",
    "\n",
    "While $\\mu$ > 0, only the largest eigenvalues $\\lambda_1$ is outside $\\mathcal{I}$.\n",
    "\n",
    "### Eigenvalues distribution for some symmetric class of Hermitian matrices (GOE, GUE and GSE)\n",
    "\n",
    "**Universality** depends only on a symmetric class, which is related with parameter $\\beta$, even for non-Hermitian ensembles:\n",
    "\n",
    "$$\\beta = \\frac{1}{T}.$$\n",
    "\n",
    "+ $\\beta$ = 0: **Poisson distribution** (unrelated);\n",
    "\n",
    "+ $\\beta$=1: **GOE**;\n",
    "\n",
    "+ $\\beta$=2: **GUE**;\n",
    "\n",
    "+ $\\beta$ = 4: **GSE**;\n",
    "\n",
    "+ $\\beta = \\infty$: **limiting distribution** (zero temperature)."
   ]
  },
  {
   "cell_type": "code",
   "execution_count": 1,
   "metadata": {
    "collapsed": true
   },
   "outputs": [],
   "source": [
    "from itertools import combinations\n",
    "from numpy import array, ceil, concatenate, cosh, cumsum, diag, diff, dot, exp, eye, float64, floor, full_like\n",
    "from numpy import gradient, int64, linspace, mat, mean, nonzero, ones, pi, prod, sign, sqrt, trace, trapz, zeros\n",
    "from numpy.linalg import cond, det, eig, eigvals, eigvalsh, inv, norm, qr, slogdet, svd\n",
    "from numpy.random import chisquare, gamma, permutation, rand, randint, randn\n",
    "from scipy.integrate import odeint, quad\n",
    "from scipy.linalg import coshm, cosm, expm, logm, signm, sinhm, sinm, sqrtm, tanhm, tanm\n",
    "from scipy.sparse import spdiags\n",
    "from scipy.special import airy, comb\n",
    "from time import time\n",
    "\n",
    "from sympy import symbols, integrate\n",
    "import matplotlib.pyplot as plt\n",
    "\n",
    "from __future__ import division"
   ]
  },
  {
   "cell_type": "markdown",
   "metadata": {},
   "source": [
    "## 0 辅助函数"
   ]
  },
  {
   "cell_type": "markdown",
   "metadata": {},
   "source": [
    "### Double factorial (双阶乘)\n",
    "\n",
    "In the univariate case, we have the following moments for the Hermite, Laguerre, and Jacobi weight functions:\n",
    "$$\\int_{\\mathbb{R}} x^k e^{- x^2 / 2} dx = (2 k - 1) !! = (- 1)^{k / 2} H_k(0),$$\n",
    "\n",
    "$$\\int_{[0, \\infty)} x^k x^{\\gamma} e^{- x}dx = (\\gamma + 1)_k = L_k^{\\gamma}(0),$$\n",
    "\n",
    "and\n",
    "\n",
    "$$\\int_{[0, 1]} x^k x^a (1 - x)^b dx = \\frac{(a + 1)_k \\Gamma(a + b + 2)}{\\Gamma(a + 1)\\Gamma(a + b + k + 2)} = P_k^{a, b}(0).$$\n",
    "In the above, $k \\geq 0$ and\n",
    "\n",
    "$$\\Gamma(m + \\frac{1}{2}) = \\frac{(2 m - 1) !! \\sqrt{\\pi}}{2^m}$$\n",
    "\n",
    "[随机矩阵引论：理论与实践](https://github.com/brucejunlee/RMT_Theory_Applications/blob/master/RM_introduction_python.ipynb): Chapter 0"
   ]
  },
  {
   "cell_type": "markdown",
   "metadata": {},
   "source": [
    "### Determinant (行列式)\n",
    "\n",
    "+ Define recursively:\n",
    "\n",
    "$$det(A) = \\Sigma_{\\sigma \\in S_n} sign(\\sigma)\\prod A_{i, \\sigma_i}.$$"
   ]
  },
  {
   "cell_type": "code",
   "execution_count": 2,
   "metadata": {
    "collapsed": true
   },
   "outputs": [],
   "source": [
    "def determinant(A):\n",
    "    if len(A) <= 0:\n",
    "        return None\n",
    "    elif len(A) == 1:\n",
    "        return A[0][0]\n",
    "    else:\n",
    "        s = 0\n",
    "        for i in range(len(A)):\n",
    "            # 余子式\n",
    "            Ai = [[row[a] for a in range(len(A)) if a != i] for row in A[1:]]\n",
    "            s += A[0][i] * det(Ai) * (-1) ** (i % 2)\n",
    "        return s"
   ]
  },
  {
   "cell_type": "code",
   "execution_count": 3,
   "metadata": {},
   "outputs": [
    {
     "name": "stdout",
     "output_type": "stream",
     "text": [
      "CPU times: user 340 µs, sys: 83 µs, total: 423 µs\n",
      "Wall time: 399 µs\n"
     ]
    },
    {
     "data": {
      "text/plain": [
       "5.8991953025391037"
      ]
     },
     "execution_count": 3,
     "metadata": {},
     "output_type": "execute_result"
    }
   ],
   "source": [
    "A = randn(5, 5)\n",
    "%time determinant(A)"
   ]
  },
  {
   "cell_type": "markdown",
   "metadata": {},
   "source": [
    "+ Import **NumPy** library"
   ]
  },
  {
   "cell_type": "code",
   "execution_count": 4,
   "metadata": {},
   "outputs": [
    {
     "name": "stdout",
     "output_type": "stream",
     "text": [
      "CPU times: user 68 µs, sys: 4 µs, total: 72 µs\n",
      "Wall time: 76.1 µs\n"
     ]
    },
    {
     "data": {
      "text/plain": [
       "5.8991953025391037"
      ]
     },
     "execution_count": 4,
     "metadata": {},
     "output_type": "execute_result"
    }
   ],
   "source": [
    "%time det(A)"
   ]
  },
  {
   "cell_type": "markdown",
   "metadata": {},
   "source": [
    "### Permanent (积和式)\n",
    "\n",
    "Definition:\n",
    "\n",
    "$$per(A) = \\Sigma_{\\sigma \\in S_n} \\prod A_{i, \\sigma_i}.$$\n",
    "\n",
    "Methods:\n",
    "\n",
    "+ 1 Define recursively;\n",
    "+ 2 Ryser formula(more faster): By counting multiplications it has efficiency $O(m \\times 2^m)$. Assume $S \\subseteq M$, $\\bar{S}$ denotes the complementary set M \\ S, |S| denotes the cardinality;\n",
    "\n",
    "$$per(A) = \\sum_{S \\subseteq M} (- 1)^{|S|} \\prod_{j = 1}^m \\sum_{i \\in \\bar{S}} A_{ij}$$\n",
    "\n",
    "+ 3 It is related to the polarization identity for symmetric tensors;\n",
    "\n",
    "+ 4 From the partial derivatives of determinants of some matrices.\n",
    "\n",
    "Researchers:\n",
    "\n",
    "+ **L. Valiant (AAAI Fellow, 1992; Turing Award, 2010)**, **D. Knuth (Turing Award, 1974)**, Vardi et. al.\n",
    "\n",
    "+ David G. Glynn, 2010: The permanent of a square matrix."
   ]
  },
  {
   "cell_type": "code",
   "execution_count": 5,
   "metadata": {
    "collapsed": true
   },
   "outputs": [],
   "source": [
    "def permanent(A):\n",
    "    if len(A) <= 0:\n",
    "        return None\n",
    "    elif len(A) == 1:\n",
    "        return A[0][0]\n",
    "    else:\n",
    "        s = 0\n",
    "        for i in range(len(A)):\n",
    "            # 余子式\n",
    "            Ai = [[row[a] for a in range(len(A)) if a != i] for row in A[1:]]\n",
    "            s += A[0][i] * det(Ai)\n",
    "        return s"
   ]
  },
  {
   "cell_type": "code",
   "execution_count": 6,
   "metadata": {},
   "outputs": [
    {
     "name": "stdout",
     "output_type": "stream",
     "text": [
      "CPU times: user 536 µs, sys: 107 µs, total: 643 µs\n",
      "Wall time: 542 µs\n"
     ]
    },
    {
     "data": {
      "text/plain": [
       "6.8121749338159789"
      ]
     },
     "execution_count": 6,
     "metadata": {},
     "output_type": "execute_result"
    }
   ],
   "source": [
    "%time permanent(A)"
   ]
  },
  {
   "cell_type": "markdown",
   "metadata": {},
   "source": [
    "## 1 Gaussian normal distribution\n",
    "\n",
    "The **probability density function (pdf)** of standard normal distribution:\n",
    "\n",
    "$$f(x) = \\frac{1}{\\sqrt{2 \\pi} \\sigma} e^{-\\frac{(x - \\mu)^2}{2}}$$"
   ]
  },
  {
   "cell_type": "code",
   "execution_count": 7,
   "metadata": {},
   "outputs": [
    {
     "data": {
      "image/png": "[encoded data removed]",
      "text/plain": [
       "<matplotlib.figure.Figure at 0x10a8c9c50>"
      ]
     },
     "metadata": {},
     "output_type": "display_data"
    }
   ],
   "source": [
    "h = 1e-5\n",
    "N = int(8 / h)\n",
    "x = linspace(-4, 4, N)\n",
    "G = randn(N)\n",
    "\n",
    "plt.figure(figsize=(5, 5))\n",
    "plt.hist(G, normed=True, align=u'mid', label=r'Gaussian samples')\n",
    "plt.plot(x, exp(- x ** 2 / 2) / sqrt(2 * pi), label='Probability density')\n",
    "plt.title('Gaussian normal distribution', fontsize=18)\n",
    "plt.xlabel(r'$x$', fontsize=18)\n",
    "plt.ylabel(r'$\\rho(x)$', fontsize=18)\n",
    "plt.legend(loc='best')\n",
    "plt.show()"
   ]
  },
  {
   "cell_type": "markdown",
   "metadata": {},
   "source": [
    "## 2 Gaussian white noise and Brownian motion"
   ]
  },
  {
   "cell_type": "code",
   "execution_count": 8,
   "metadata": {},
   "outputs": [
    {
     "data": {
      "image/png": "[encoded data removed]",
      "text/plain": [
       "<matplotlib.figure.Figure at 0x108a182d0>"
      ]
     },
     "metadata": {},
     "output_type": "display_data"
    }
   ],
   "source": [
    "h = 1e-3\n",
    "N = int(1 / h)\n",
    "x = linspace(0, 1, N)\n",
    "# Gaussian white noise\n",
    "dW = randn(N) * sqrt(h)\n",
    "# Brownian motion\n",
    "W = cumsum(dW)\n",
    "\n",
    "\n",
    "plt.figure(figsize=(5, 5))\n",
    "plt.plot(x, W)\n",
    "plt.title('Brownian motion', fontsize=18)\n",
    "plt.xlabel(r'$x$', fontsize=18)\n",
    "plt.ylabel(r'$W$', fontsize=18)\n",
    "plt.show()"
   ]
  },
  {
   "cell_type": "markdown",
   "metadata": {},
   "source": [
    "## 3 A simple random matrix test function"
   ]
  },
  {
   "cell_type": "code",
   "execution_count": 9,
   "metadata": {
    "collapsed": true
   },
   "outputs": [],
   "source": [
    "def cmp_A(A, x):\n",
    "    res = full_like(A, 0.0)\n",
    "    m = len(A)\n",
    "    n = len(A[0])\n",
    "    for i in range(m):\n",
    "        for j in range(n):\n",
    "            if A[i, j] < x:\n",
    "                res[i, j] = 1.0\n",
    "    \n",
    "    return res"
   ]
  },
  {
   "cell_type": "code",
   "execution_count": 10,
   "metadata": {},
   "outputs": [
    {
     "name": "stdout",
     "output_type": "stream",
     "text": [
      "0.00248567952243\n"
     ]
    }
   ],
   "source": [
    "# mean number\n",
    "trials = 20000\n",
    "N = 20\n",
    "v = 0\n",
    "for i in range(trials):\n",
    "    A = randn(N, N)\n",
    "    \n",
    "    # method 1\n",
    "    A = A < 0.5\n",
    "    A = A.astype(float64)\n",
    "    # method 2\n",
    "    #A = cmp_A(A, 0.5)\n",
    "    # method 3\n",
    "    #A = randint(2, size=(N, N))\n",
    "    #A = A.astype(float64)\n",
    "    \n",
    "    # entries ±1 with equal probability\n",
    "    A = 2 * A - 1\n",
    "    # Q is a random orthogonal matrix\n",
    "    Q = qr(randn(N, N))[0]\n",
    "    # rotated by Q\n",
    "    A = dot(Q, A)\n",
    "    v += (A[0, 0] * A[1, 1]) ** 2 - 1\n",
    "print v / trials"
   ]
  },
  {
   "cell_type": "markdown",
   "metadata": {},
   "source": [
    "## 4 Longest Increasing Subsequences (LIS)\n",
    "\n",
    "In the language of probability theory, we take a uniform random permutation $\\pi$ of {1, 2, ..., n}. We say that $\\pi(i_1)$, ..., $\\pi(i_k)$ is an increasing subsequence in $\\pi$ if $i_1$ < $i_2$ < ... < $i_k$ and $\\pi(i_1)$ < $\\pi(i_2)$ < ... < $\\pi(i_k)$. Let $l_n(\\pi)$ be the length of the longest increasing subsequence.\n",
    "\n",
    "There is an interesting link between the **moments of the eigenvalues of Q** and the number of permutations of length n with longest increasing subsequence less than or equal to length k. \n",
    "\n",
    "For example:\n",
    "\n",
    "+ the permutation (5 1 3 2 4) has (1 2 4) and (1 3 4) as the longest increasing subsequences of length 3.\n",
    "\n",
    "+ the permutation (3 1 8 4 5 7 2 6 9 10) has (1 4 5 7 9 10) and (1 4 5 6 9 10) as the longest increasing subsequences of length 6."
   ]
  },
  {
   "cell_type": "markdown",
   "metadata": {},
   "source": [
    "### Random matrix approach\n",
    "\n",
    "$$\\mathbb{P}(l_n \\le k) = \\frac{1}{n!} \\int_{U_k} |Tr(Q)|^{2n} dQ$$\n",
    "\n",
    "where dQ denotes normalized Haar measure on the unitary group $U_k$ of k × k matrices Q.\n",
    "\n",
    "see, Rains, Odlyzko, Deift, Baik, Johansson, Diaconis, et al."
   ]
  },
  {
   "cell_type": "code",
   "execution_count": 11,
   "metadata": {},
   "outputs": [
    {
     "data": {
      "text/plain": [
       "14.056943736932952"
      ]
     },
     "execution_count": 11,
     "metadata": {},
     "output_type": "execute_result"
    }
   ],
   "source": [
    "n = 4\n",
    "k = 2\n",
    "trials = 30000\n",
    "\n",
    "res = []\n",
    "for i in range(trials):\n",
    "    A = randn(k, k) + randn(k, k) * 1j\n",
    "    # QR algorithm does not guarantee nonnegative diagonal entries in R\n",
    "    Q = qr(A)[0]\n",
    "    #R = qr(A)[1]\n",
    "    # obtain a Haar-distributed unitary matrix\n",
    "    #Q = dot(Q, diag(sign(diag(R))))\n",
    "    # a simple correction by randomly perturbing the phase\n",
    "    Q = dot(Q, diag(exp(2 * pi * 1j * rand(k))))\n",
    "    res.append(abs(trace(Q)) ** (2 * n))\n",
    "mean(res)"
   ]
  },
  {
   "cell_type": "markdown",
   "metadata": {},
   "source": [
    "### [Patience sorting](https://en.wikipedia.org/wiki/Patience_sorting)\n",
    "\n",
    "> One-person card games are called **solitaire games** in American and **patience games** in British."
   ]
  },
  {
   "cell_type": "markdown",
   "metadata": {},
   "source": [
    "+ [Algorithm Implementation/Sorting/Patience sort](https://en.wikibooks.org/wiki/Algorithm_Implementation/Sorting/Patience_sort)"
   ]
  },
  {
   "cell_type": "code",
   "execution_count": 12,
   "metadata": {
    "collapsed": true
   },
   "outputs": [],
   "source": [
    "import bisect, heapq"
   ]
  },
  {
   "cell_type": "code",
   "execution_count": 13,
   "metadata": {
    "collapsed": true
   },
   "outputs": [],
   "source": [
    "def patiencesort(seq):\n",
    "    piles = []\n",
    "    for x in seq:\n",
    "        new_pile = [x]\n",
    "        i = bisect.bisect_left(piles, new_pile)\n",
    "        if i != len(piles):\n",
    "            piles[i].insert(0, x)\n",
    "        else:\n",
    "            piles.append(new_pile)\n",
    "    print \"longest increasing subsequence has length =\", len(piles)\n",
    "\n",
    "    # priority queue allows us to retrieve least pile efficiently\n",
    "    for i in range(len(seq)):\n",
    "        small_pile = piles[0]\n",
    "        seq[i] = small_pile.pop(0)\n",
    "        if small_pile:\n",
    "            heapq.heapreplace(piles, small_pile)\n",
    "        else:\n",
    "            heapq.heappop(piles)\n",
    "    assert not piles"
   ]
  },
  {
   "cell_type": "code",
   "execution_count": 14,
   "metadata": {},
   "outputs": [
    {
     "name": "stdout",
     "output_type": "stream",
     "text": [
      "longest increasing subsequence has length = 5\n",
      "[-31, 0, 1, 1, 2, 4, 4, 65, 83, 99, 782]\n"
     ]
    }
   ],
   "source": [
    "foo = [4, 65, 2, 4, -31, 0, 99, 1, 83, 782, 1]\n",
    "patiencesort(foo)\n",
    "print foo"
   ]
  },
  {
   "cell_type": "markdown",
   "metadata": {},
   "source": [
    "## 5 Wigner's semi-circle law\n",
    "\n",
    "[随机矩阵引论：理论与实践](https://github.com/brucejunlee/RMT_Theory_Applications/blob/master/RM_introduction_python.ipynb): Chapter 1, 3, 5"
   ]
  },
  {
   "cell_type": "markdown",
   "metadata": {},
   "source": [
    "## 6 Finite semi-circle law\n",
    "\n",
    "+ The weight function of GUE:\n",
    "\n",
    "$$w(x) = e^{- x^2 / 2}$$\n",
    "\n",
    "+ The weight function of LUE:\n",
    "\n",
    "$$w(x) = x^a e^{- x / 2}$$\n",
    "\n",
    "+ **Hermite polynomial**:\n",
    "\n",
    "$$\n",
    "H_k(x) =\n",
    "\\begin{cases}\n",
    "1, & k = 0 \\\\\n",
    "x, & k = 1 \\\\\n",
    "x H_{k - 1}(x) - (k - 1) H_{k-2}(x), & k \\ge 2\n",
    "\\end{cases}\n",
    "$$\n",
    "\n",
    "[随机矩阵引论：理论与实践](https://github.com/brucejunlee/RMT_Theory_Applications/blob/master/RM_introduction_python.ipynb): Chapter 12"
   ]
  },
  {
   "cell_type": "code",
   "execution_count": 15,
   "metadata": {},
   "outputs": [
    {
     "data": {
      "image/png": "[encoded data removed]",
      "text/plain": [
       "<matplotlib.figure.Figure at 0x10b671d10>"
      ]
     },
     "metadata": {},
     "output_type": "display_data"
    }
   ],
   "source": [
    "n = 5\n",
    "# Christoffel-Darboux formula\n",
    "x = linspace(-1, 1, 1000)\n",
    "x = x * sqrt(2 * n) * 1.3\n",
    "x = array(x, dtype=float64)\n",
    "\n",
    "# -1st Hermite polynomial\n",
    "H_old = 0 * x\n",
    "# 0th Hermite polynomial\n",
    "H = 1 + 0 * x\n",
    "\n",
    "for i in range(n):\n",
    "    H_new = (sqrt(2) * x * H - sqrt(i) * H_old) / sqrt(i + 1)\n",
    "    H_old = H\n",
    "    H = H_new\n",
    "    \n",
    "H_new = (sqrt(2) * x * H - sqrt(n) * H_old) / sqrt(n + 1)\n",
    "\n",
    "# page 420 of Mehta's\n",
    "k = n * H ** 2 - sqrt(n * (n + 1)) * H_new * H_old\n",
    "# correct normalization multiplied\n",
    "k = k * exp(- x * x) / sqrt(pi)\n",
    "k = array(k, dtype=float64)\n",
    "\n",
    "# rescale on [-1, 1] and the area is π/2\n",
    "plt.figure(figsize=(5, 5))\n",
    "plt.plot(x / sqrt(2 * n), k * pi / sqrt(2 * n))\n",
    "plt.title('Finite semicircle law', fontsize=18)\n",
    "plt.show()"
   ]
  },
  {
   "cell_type": "markdown",
   "metadata": {},
   "source": [
    "## 7 Consecutive spacings of the eigenvalues of Hermitian random matrices\n",
    "\n",
    "### GOE\n",
    "\n",
    "+ Nearest neighborhood spacings:\n",
    "\n",
    "$$\\Delta = \\lambda_{k + 1}-\\lambda_k$$\n",
    "\n",
    "> We can study Next-Nearest neighborhood spacings as well.\n",
    "\n",
    "+ **Wigner surmise**:\n",
    "\n",
    "$$P(s) = \\frac{\\pi s}{2} e^{- \\frac{\\pi s^2}{4}}$$\n",
    "\n",
    "where s denotes the spacings.\n",
    "\n",
    "[随机矩阵引论：理论与实践](https://github.com/brucejunlee/RMT_Theory_Applications/blob/master/RM_introduction_python.ipynb): Chapter 2\n",
    "\n",
    "### GUE (Edelman & N. R. Rao, 2005)\n",
    "\n",
    "+ It's related to **$Painlev\\acute{e}$ V equation** and **zeros of Riemann $\\zeta$ function**."
   ]
  },
  {
   "cell_type": "markdown",
   "metadata": {},
   "source": [
    "## 8 Mar$\\check{c}$enko-Pastur law\n",
    "\n",
    "Eigenvalues distribution of **sample covariance matrices**, namely, singular value distribution of initial Gaussian matrices.\n",
    "\n",
    "+ A singular Mar$\\check{c}$enko-Pastur distribution:\n",
    "\n",
    "$$d_{\\mu_{MP}}(x) = \\frac{\\sqrt{4 - x}}{2 \\pi \\sqrt{x}} dx$$\n",
    "\n",
    "[随机矩阵引论：理论与实践](https://github.com/brucejunlee/RMT_Theory_Applications/blob/master/RM_introduction_python.ipynb): Chapter 13, 14"
   ]
  },
  {
   "cell_type": "markdown",
   "metadata": {},
   "source": [
    "## 9 Stochastic differential operator (Sutton & Edelman)\n",
    "\n",
    "### Hermite\n",
    "\n",
    "+ Soft edge on the right: \n",
    "\n",
    "$$A + \\frac{2}{\\sqrt{\\beta}} W$$\n",
    "\n",
    "$$\\frac{d^2}{dx^2} - x + \\sigma dW$$\n",
    "\n",
    "approximate **Airy operator** A by $\\frac{1}{h^2} D_2 - diag(x_1, \\dots, x_n)$ and $\\frac{2}{\\sqrt{\\beta}} W$ by $\\frac{2}{\\sqrt{\\beta}} \\frac{1}{\\sqrt{h}} diag(G_1, \\dots, G_n)$ with n = 200, $h = n^{-1/3}$, $x_k = hk$, and $G_1, \\dots, G_n$ are i.i.d. standard Gaussians, and over $10^5$ trials.\n",
    "\n",
    "### Jacobi (smallest singular value)\n",
    "\n",
    "+ hard edge on the left:\n",
    "\n",
    "(use forward differences)\n",
    "\n",
    "$$\\tilde{J}_a + \\sqrt{\\frac{2}{\\beta}} \\frac{1}{\\sqrt{y}} W$$\n",
    "\n",
    "approximate **Bessel operator** in Liouville form by $-\\frac{1}{h} D_1 + (a + \\frac{1}{2}) diag(\\frac{1}{y_1}, \\dots, \\frac{1}{y_n})$ and random term by $\\sqrt{\\frac{2}{\\beta}} diag(\\frac{1}{\\sqrt{y_1}}, \\dots, \\frac{1}{\\sqrt{y_n}}) (\\frac{1}{\\sqrt{h}} diag(G_1, \\dots, G_n)) (\\frac{1}{2} (- \\Omega D_1 \\Omega))$ with n = 2000, $h = \\frac{1}{n}$, $y_k = hk$, and $G_1, \\dots, G_n$ i.i.d. standard Gaussians, and over $10^5$ trials.\n",
    "\n",
    "**Note**: The averaging matrix $\\frac{1}{2} (- \\Omega D_1 \\Omega)$ splits the **noise** over two diagonals instead of one.\n",
    "\n",
    "+ hard edge on the right:\n",
    "\n",
    "$$\\tilde{J}_b + \\sqrt{\\frac{2}{\\beta}} \\frac{1}{\\sqrt{y}} W$$\n",
    "\n",
    "approximate **Bessel operator** in Liouville form by and random term by with n = 200, $h = \\frac{1}{n + \\frac{a + b + 1}{2}}$, $x_k = hk$, and $G_1, \\dots, G_n$ i.i.d. standard Gaussians, and over $10^5$ trials.\n",
    "\n",
    "### Square Laguerre (smallest singular value)\n",
    "\n",
    "+ hard edge on the left:\n",
    "\n",
    "$$J_a + \\frac{2}{\\sqrt{\\beta}} W$$\n",
    "\n",
    "in which the Bessel operator has **type I BCs**.\n",
    "\n",
    "approximate **Bessel operator** in Liouville form by $- 2 diag(\\sqrt{x_1}, \\dots, \\sqrt{x_n}) (\\frac{1}{h} D_1) + a diag(\\frac{1}{\\sqrt{x_1}}, \\dots, \\frac{1}{\\sqrt{x_n}})$ and random term by $\\frac{2}{\\sqrt{\\beta}} (\\frac{1}{2} (- \\Omega D_1 \\Omega)) (\\frac{1}{\\sqrt{h}} diag(G_1, \\dots, G_n))$ with n = 2000, $h = \\frac{1}{n}$, $x_k = hk$, and $G_1, \\dots, G_n$ i.i.d. standard Gaussians, and over $10^5$ trials.\n",
    "\n",
    "### Rectangular Laguerre\n",
    "\n",
    "+ hard edge on the left:\n",
    "\n",
    "$$J_{a - 1} + \\frac{2}{\\sqrt{\\beta}} W$$\n",
    "\n",
    "in which the Bessel operator has **type II BCs**.\n",
    "\n",
    "approximate **Bessel operator** in Liouville form by and random term by with n = 200, $h = \\frac{1}{n + \\frac{a + 1}{2}}$, $x_k = hk$, and $G_1, \\dots, G_n$ i.i.d. standard Gaussians, and over $10^5$ trials.\n",
    "\n",
    "### Bulk (spacing distribution of the gap between eigenvalues m and m+1)\n",
    "\n",
    "+ Jacobi near one-half\n",
    "\n",
    "### Hermite near zero\n",
    "\n",
    "+ For even case (2m $\\times$ 2m), sine operators have **type I BCs**:\n",
    "\n",
    "$$J_{-\\frac{1}{2}} + \\frac{2}{\\sqrt{2 \\beta}} W$$\n",
    "\n",
    "approximate $J_{-\\frac{1}{2}}$ by $- 2 diag(\\sqrt{x_1}, \\dots, \\sqrt{x_m}) (\\frac{1}{h} D_1) - \\frac{1}{2} diag(\\frac{1}{\\sqrt{x_1}}, \\dots, \\frac{1}{\\sqrt{x_m}})$; approximate $W_{11}, W_{22}$ by $\\frac{1}{\\sqrt{h}} diag(G_1, \\dots, G_m)$; approximate $W_{12}$ by $\\frac{1}{\\sqrt{h}} diag(G, \\dots, G) \\frac{1}{2} (- \\Omega D_1 \\Omega)$ with m = 200, $h = \\frac{1}{m}$, $x_k = hk$.\n",
    "\n",
    "+ For odd case ((2m + 1) $\\times$ (2m + 1)), Bessel operators have **type II BCs**.\n",
    "\n",
    "### Tracy-Widom law (Edelman & N. R. Rao, 2005)\n",
    "\n",
    "$$L^{\\beta} = \\frac{d^2}{dx^2} - x + \\frac{2}{\\sqrt{\\beta}} dW$$"
   ]
  },
  {
   "cell_type": "markdown",
   "metadata": {},
   "source": [
    "## 10 Girko's circle law\n",
    "\n",
    "Take an n$\\times$n matrix with independent entries of standard deviation $n^{-1/2}$ and you'll find that its eigenvalues fill the **complex unit disk uniformly** - exactly so in the limit $m \\rightarrow \\infty$.\n",
    "\n",
    "[Beyond Girko's Law](https://github.com/brucejunlee/RMT_Theory_Applications/blob/master/beyond_Girko_law.ipynb): Chapter 1"
   ]
  },
  {
   "cell_type": "markdown",
   "metadata": {},
   "source": [
    "## 11 Girko's elliptic law\n",
    "\n",
    "[Beyond Girko's Law](https://github.com/brucejunlee/RMT_Theory_Applications/blob/master/beyond_Girko_law.ipynb): Chapter 5\n"
   ]
  },
  {
   "cell_type": "markdown",
   "metadata": {},
   "source": [
    "## 12 Simple ring law \n",
    "\n",
    "[Beyond Girko's Law](https://github.com/brucejunlee/RMT_Theory_Applications/blob/master/beyond_Girko_law.ipynb): Chapter 6"
   ]
  },
  {
   "cell_type": "markdown",
   "metadata": {},
   "source": [
    "## 13 Eigenvalues distribution of non-Hermitian random matrices\n"
   ]
  },
  {
   "cell_type": "markdown",
   "metadata": {},
   "source": [
    "+ Real eigenvalues: **Uniform distribution**"
   ]
  },
  {
   "cell_type": "code",
   "execution_count": 16,
   "metadata": {},
   "outputs": [
    {
     "name": "stdout",
     "output_type": "stream",
     "text": [
      "6056\n"
     ]
    },
    {
     "data": {
      "image/png": "[encoded data removed]",
      "text/plain": [
       "<matplotlib.figure.Figure at 0x10b681550>"
      ]
     },
     "metadata": {},
     "output_type": "display_data"
    }
   ],
   "source": [
    "N = 50\n",
    "trials = 1000\n",
    "E = []\n",
    "total = 0\n",
    "for _ in range(trials):\n",
    "    G = (rand(N, N) - 0.5) * 2   \n",
    "    es = eigvals(G)\n",
    "    for e in es:\n",
    "        if e.imag == 0:\n",
    "            total += 1\n",
    "            E.append(e.real)\n",
    "\n",
    "print total\n",
    "E = array(E)\n",
    "plt.figure(figsize=(8, 8))\n",
    "plt.hist(E, normed=True)\n",
    "plt.title('Real eigenvalues distribution of non-Hermitian matrices', fontsize=18)\n",
    "plt.show()"
   ]
  },
  {
   "cell_type": "markdown",
   "metadata": {},
   "source": [
    "+ Complex eigenvalues: Scaled **imaginary parts**"
   ]
  },
  {
   "cell_type": "code",
   "execution_count": 17,
   "metadata": {},
   "outputs": [
    {
     "name": "stdout",
     "output_type": "stream",
     "text": [
      "10000\n"
     ]
    },
    {
     "data": {
      "image/png": "[encoded data removed]",
      "text/plain": [
       "<matplotlib.figure.Figure at 0x10b68b650>"
      ]
     },
     "metadata": {},
     "output_type": "display_data"
    }
   ],
   "source": [
    "N = 10\n",
    "trials = 1000\n",
    "E = []\n",
    "v = 1 / sqrt(N)\n",
    "total = 0\n",
    "for _ in range(trials):\n",
    "    G1 = randn(N, N) + 1j * randn(N, N)\n",
    "    G1 = mat(G1)\n",
    "    A = (G1 + G1.H) / 2                         # GUE E(trA^2)=N^2 \n",
    "    G2 = randn(N, N) + 1j * randn(N, N)\n",
    "    G2 = mat(G2)\n",
    "    B = (G2 + G2.H)/2                           # GUE E(trB^2)=N^2\n",
    "    J = (A + 1j * v * B) / sqrt(N)     \n",
    "    es = eigvals(J)\n",
    "    for e in es:\n",
    "        if e.imag != 0:\n",
    "            total += 1\n",
    "            # scaled imaginary parts\n",
    "            E.append(2 * N * e.imag)\n",
    "\n",
    "print total\n",
    "E = array(E)\n",
    "plt.figure(figsize=(8, 8))\n",
    "plt.hist(E, normed=True)\n",
    "plt.title('Scaled imaginary parts of complex eigenvalues of weakly non-Hermitian matrices', fontsize=18)\n",
    "plt.show()"
   ]
  },
  {
   "cell_type": "markdown",
   "metadata": {},
   "source": [
    "## 14 Tracy-Widom law\n"
   ]
  },
  {
   "cell_type": "markdown",
   "metadata": {},
   "source": [
    "+ Extreme eigenvalues distribution (**edge distribution** or largest eigenvalue distribution)\n",
    "\n",
    "> The largest eigenvalue distribution of Hermite ensemble and Laguerre ensemble $\\sim$ Tracy-Widom law in **different normalization constants**.\n",
    "\n",
    "+ $\\beta$-Hermite ensemble: **Tracy & Widom, 2008**\n",
    "+ $\\beta$-Laguerre ensemble:\n",
    "    + $\\beta$ = 1: **Johnstone, 2001**\n",
    "    + $\\beta$ = 2: **Johansson, 2000**"
   ]
  },
  {
   "cell_type": "code",
   "execution_count": 18,
   "metadata": {},
   "outputs": [
    {
     "data": {
      "image/png": "[encoded data removed]",
      "text/plain": [
       "<matplotlib.figure.Figure at 0x10b69c290>"
      ]
     },
     "metadata": {},
     "output_type": "display_data"
    }
   ],
   "source": [
    "N = 40\n",
    "trials = 5000\n",
    "E = []\n",
    "for i in range(trials):\n",
    "    A = randn(N, N) + randn(N, N) * 1j\n",
    "    A = mat(A)\n",
    "    A = (A + A.H) / 2\n",
    "    E.append(sorted(eigvalsh(A))[-1])\n",
    "\n",
    "E = array(E)\n",
    "# normalization\n",
    "E = N ** (1 / 6) * (E - 2 * sqrt(N))\n",
    "plt.figure(figsize=(8, 8))\n",
    "plt.hist(E, normed=True)\n",
    "plt.title('Largest eigenvalues distribution of Hermitian matrices', fontsize=18)\n",
    "plt.xlabel(r'$x$', fontsize=18)\n",
    "plt.ylabel(r'$\\rho(x)$', fontsize=18)\n",
    "plt.show()"
   ]
  },
  {
   "cell_type": "markdown",
   "metadata": {},
   "source": [
    "+ **Limiting** Tracy-Widom density\n",
    "\n",
    "> Theoretical probability density function is related to the solution of **$Painlev\\acute{e}$ II equation**:\n",
    "\n",
    "$$q^{\\prime \\prime} = s q + 2 q^3$$\n",
    "\n",
    "with the **BCs** $q(s) \\sim Ai(s)$ as $s \\rightarrow \\infty$.\n",
    "\n",
    "The probability distributions thus obtained are the famous **Tracy-Widom** distributions.\n",
    "\n",
    "The probability distribution $f_2(s)$, corresponding to $\\beta = 2$, is given by\n",
    "\n",
    "$$f_2(s) = \\frac{d}{ds} F_2(s),$$\n",
    "\n",
    "where\n",
    "\n",
    "$$F_2(s) = \\exp(- \\int_s^{\\infty} (x - s) q(x)^2 dx).$$\n",
    "\n",
    "The probability distributions $f_1(s)$ and $f_4(s)$ for $\\beta = 1$ and $\\beta = 4$ are the derivatives of $F_1(s)$ and $F_4(s)$ respectively, which are given by\n",
    "\n",
    "$$F_1(s)^2 = F_2(s) \\exp(- \\int_s^{\\infty} q(x) dx)$$\n",
    "\n",
    "and\n",
    "\n",
    "$$F_4(\\frac{s}{2^{\\frac{2}{3}}})^2 = F_2(s) (cosh(\\int_s^{\\infty} q(x) dx))^2.$$\n",
    "\n",
    "更多特殊函数查阅[scipy.special](https://docs.scipy.org/doc/scipy-0.16.1/reference/special.html)\n",
    "\n",
    "> The **trapezoidal rule** cumsum function is used to approximate numerically the integrals."
   ]
  },
  {
   "cell_type": "markdown",
   "metadata": {},
   "source": [
    "> To solve this equation with **odeint**, we must first convert it to **a system of first order equations**.\n",
    "\n",
    "$$\\frac{d}{ds} \\begin{pmatrix} q \\\\ p \\end{pmatrix} =$$\n",
    "\n",
    "$$\\begin{pmatrix} p \\\\ s q + 2 q^3 \\end{pmatrix}.$$\n",
    "\n",
    "Let y be the vector [q, p].\n",
    "\n",
    "**Note**: A system of first order equations can be constructed in another form to simplify the computation."
   ]
  },
  {
   "cell_type": "code",
   "execution_count": 19,
   "metadata": {
    "collapsed": true
   },
   "outputs": [],
   "source": [
    "def PII(y, s):\n",
    "    q, p = y\n",
    "    dyds = [p, s * q + 2 * q ** 3]\n",
    "    return dyds"
   ]
  },
  {
   "cell_type": "code",
   "execution_count": 20,
   "metadata": {},
   "outputs": [
    {
     "name": "stderr",
     "output_type": "stream",
     "text": [
      "/Users/brucelee/miniconda2/lib/python2.7/site-packages/scipy/integrate/odepack.py:218: ODEintWarning: Excess work done on this call (perhaps wrong Dfun type). Run with full_output = 1 to get quantitative information.\n",
      "  warnings.warn(warning_msg, ODEintWarning)\n"
     ]
    },
    {
     "data": {
      "image/png": "[encoded data removed]",
      "text/plain": [
       "<matplotlib.figure.Figure at 0x113224f10>"
      ]
     },
     "metadata": {},
     "output_type": "display_data"
    }
   ],
   "source": [
    "# right endpoint\n",
    "s0 = 5\n",
    "# left endpoint\n",
    "sn = -8\n",
    "# initial conditions\n",
    "y0 = [airy(s0)[0], airy(s0)[1]]\n",
    "sspan = linspace(s0, sn, 1000)\n",
    "y = odeint(PII, y0, sspan)\n",
    "q = y[:, 0]\n",
    "\n",
    "dI0 = I0 = J0 = 0\n",
    "dI = - cumsum((q[:-1] ** 2 + q[1:] ** 2) / 2 * diff(array(sspan))) + dI0\n",
    "dI = array([0] + list(dI))\n",
    "I = - cumsum((dI[:-1] + dI[1:]) / 2 * diff(array(sspan))) + I0\n",
    "I = array([0] + list(I))\n",
    "J = - cumsum((q[:-1] + q[1:]) / 2 * diff(array(sspan))) + J0\n",
    "J = array([0] + list(J))\n",
    "\n",
    "F2 = exp(-I)\n",
    "f2 = gradient(F2, sspan)\n",
    "F1 = sqrt(F2 * exp(-J))\n",
    "f1 = gradient(F1, sspan)\n",
    "#F4 = sqrt(F2) * cosh(J / 2)\n",
    "#s4 = sspan / (2 ** (2 / 3))\n",
    "#f4 = gradient(F4, s4)\n",
    "\n",
    "plt.figure(figsize=(5, 5))\n",
    "plt.plot(sspan, f1, label=r'$\\beta = 1$')\n",
    "plt.plot(sspan, f2, label=r'$\\beta = 2$')\n",
    "#plt.plot(sspan, f4, label=r'$\\beta = 4$')\n",
    "plt.title('Limiting Tracy-Widom law', fontsize=18)\n",
    "plt.xlabel(r'$s$', fontsize=18)\n",
    "plt.ylabel(r'$f_{\\beta}(s)$', fontsize=18)\n",
    "plt.legend(loc='best')\n",
    "plt.show()"
   ]
  },
  {
   "cell_type": "markdown",
   "metadata": {},
   "source": [
    "## 15 Faster Tracy-Widom law\n",
    "\n",
    "+ Using **symmetric tridiagonal matrix**\n",
    "\n",
    "$$H_n^{\\beta} \\sim \\frac{1}{\\sqrt{2}} \\begin{pmatrix} \\mathcal{N}(0, 2) & \\chi_{(n - 1)\\beta} & \\qquad & \\qquad & \\qquad \\\\ \\chi_{(n - 1)\\beta} & \\mathcal{N}(0, 2) & \\chi_{(n - 2)\\beta} & \\qquad & \\qquad \\\\ \\qquad & \\ddots & \\ddots & \\ddots & \\qquad \\\\ \\qquad & \\qquad & \\chi_{2 \\beta} & \\mathcal{N}(0, 2) & \\chi_{\\beta} \\\\ \\qquad & \\qquad & \\qquad & \\chi_{\\beta} & \\mathcal{N}(0, 2) \\end{pmatrix}$$\n",
    "\n",
    "We call it **$\\beta$-Hermite ensemble**."
   ]
  },
  {
   "cell_type": "markdown",
   "metadata": {},
   "source": [
    "+ The observation that if $k = 10 n^{1/3}$, then the largest eigenvalue is determined numerically by the top $k \\times k$ segment of n. (This is related to the decay of the **Airy function** that arises in the kernel whose eigenvalues determine the largest eigenvalue distribution. The **'magic number'** 10 here is not meant to be precise. It approximates the index k such that $\\frac{v(k)}{v(1)} \\approx \\epsilon$, where $\\epsilon$ = $2^{-52}$ for double precision arithmetic, and v is the eigenvector corresponding to the largest eigenvalue. For small $\\beta$, it may be necessary to crank up the number 10 to a larger value.)"
   ]
  },
  {
   "cell_type": "code",
   "execution_count": 21,
   "metadata": {},
   "outputs": [
    {
     "data": {
      "image/png": "[encoded data removed]",
      "text/plain": [
       "<matplotlib.figure.Figure at 0x10b8b4290>"
      ]
     },
     "metadata": {},
     "output_type": "display_data"
    }
   ],
   "source": [
    "n = 1e4\n",
    "E = []\n",
    "trials = 10000\n",
    "alpha = 10\n",
    "# real\n",
    "beta = 1\n",
    "# cutoff parameters\n",
    "k = int(round(alpha * n ** (1 / 3)))\n",
    "\n",
    "for i in range(trials):\n",
    "    d1 = sqrt(chisquare(array([j * beta for j in range(int(n - 1), int(n - k), -1)])))\n",
    "    d0 = randn(k)\n",
    "    H = diag(d1, 1) + diag(d0)\n",
    "    # scale so largest eigenvalues is near 1\n",
    "    H = (H + H.T) / sqrt(4 * n * beta)\n",
    "    E.append(sorted(eigvalsh(H))[-1])\n",
    "    \n",
    "E = array(E)\n",
    "plt.figure(figsize=(8, 8))\n",
    "plt.hist(E, normed=True)\n",
    "plt.title('Largest eigenvalues distribution of Hermitian matrices', fontsize=18)\n",
    "plt.xlabel(r'$x$', fontsize=18)\n",
    "plt.ylabel(r'$\\rho(x)$', fontsize=18)\n",
    "plt.show()"
   ]
  },
  {
   "cell_type": "markdown",
   "metadata": {},
   "source": [
    "## 16 $\\beta$-Ensembles with Covariance\n",
    "\n",
    "+ **Alexander Dubbs** (PhD Thesis, MIT 2014, doctoral advisor: **Alan Edelman**)"
   ]
  },
  {
   "cell_type": "markdown",
   "metadata": {},
   "source": [
    "### $\\beta$-Wishart (Recursive) Model\n",
    "\n",
    "+ Broken-Arrow Matrix"
   ]
  },
  {
   "cell_type": "code",
   "execution_count": 22,
   "metadata": {
    "collapsed": true
   },
   "outputs": [],
   "source": [
    "def betaWishart(m, n, beta, D):\n",
    "    Z = zeros((n, n), dtype=complex)\n",
    "    if n == 1:\n",
    "        return sqrt(chisquare(m * beta)) * sqrt(D[0, 0])\n",
    "    else:\n",
    "        Z[:-1, :-1] = betaWishart(m, n - 1, beta, D[:-1, :-1])\n",
    "        Z[-1, :-1] = zeros(n - 1)\n",
    "        Z[:-1, -1] = array([sqrt(chisquare(beta)) * sqrt(D[-1, -1]) for _ in range(n-1)])\n",
    "        Z[-1, -1] = sqrt(chisquare((m - n + 1) * beta)) * sqrt(D[-1, -1])\n",
    "        return diag(svd(Z)[1])"
   ]
  },
  {
   "cell_type": "code",
   "execution_count": 23,
   "metadata": {},
   "outputs": [
    {
     "data": {
      "text/plain": [
       "array([[ 2.78189623,  0.        ,  0.        ],\n",
       "       [ 0.        ,  1.18569805,  0.        ],\n",
       "       [ 0.        ,  0.        ,  0.62989843]])"
      ]
     },
     "execution_count": 23,
     "metadata": {},
     "output_type": "execute_result"
    }
   ],
   "source": [
    "# m > (n - 1)\n",
    "m = 4\n",
    "n = 3\n",
    "beta = 1\n",
    "D = ones((n, n))\n",
    "betaWishart(m, n, beta, D)"
   ]
  },
  {
   "cell_type": "markdown",
   "metadata": {},
   "source": [
    "### $\\beta$-MONOVA Model\n",
    "\n",
    "Given $X_{m \\times n}$, $Y_{p \\times n}$ and $\\Omega_{n \\times n}$ is diagonal & real, then $\\Omega X^{\\ast} X \\Omega$ have **eigendecomposition**:\n",
    "\n",
    "$$U \\Lambda U^{\\ast},$$\n",
    "    \n",
    "and $\\Omega X^{\\ast} X \\Omega (Y^{\\ast}Y)^{-1}$ have **eigendecomposition**\n",
    "\n",
    "$$V M V^{\\ast}.$$\n",
    "\n",
    "Then,\n",
    "\n",
    "$$(C, S) = gsvd_C (Y, X\\Omega) = (M + I)^{- \\frac{1}{2}}$$\n",
    "\n",
    "$\\Omega X^{\\ast} X \\Omega (Y^{\\ast}Y)^{-1} \\sim \\Lambda U^{\\ast}(Y^{\\ast}Y)^{-1}U \\sim \\Lambda ((U^{\\ast}Y^{\\ast})(YU))^{-1} \\sim \\Lambda (Y^{\\ast}Y)^{-1}$"
   ]
  },
  {
   "cell_type": "code",
   "execution_count": 24,
   "metadata": {
    "collapsed": true
   },
   "outputs": [],
   "source": [
    "def betaMANOVA(m, n, p, beta, Omega):\n",
    "    L = betaWishart(m, n, beta, dot(Omega, Omega))\n",
    "    M = inv(betaWishart(p, n, beta, inv(L)))\n",
    "    return sqrtm(M + eye(n))"
   ]
  },
  {
   "cell_type": "code",
   "execution_count": 25,
   "metadata": {},
   "outputs": [
    {
     "data": {
      "text/plain": [
       "array([[ 1.25281928,  0.        ,  0.        ],\n",
       "       [ 0.        ,  1.39730984,  0.        ],\n",
       "       [ 0.        ,  0.        ,  3.38615502]])"
      ]
     },
     "execution_count": 25,
     "metadata": {},
     "output_type": "execute_result"
    }
   ],
   "source": [
    "m = 4\n",
    "p = 5\n",
    "n = 3\n",
    "beta = 1\n",
    "Omega = ones((n, n))\n",
    "betaMANOVA(m, n, p, beta, Omega)"
   ]
  },
  {
   "cell_type": "markdown",
   "metadata": {},
   "source": [
    "## 17 Smallest eigenvalues distribution (Terence Tao, 2010)\n"
   ]
  },
  {
   "cell_type": "code",
   "execution_count": 26,
   "metadata": {},
   "outputs": [
    {
     "data": {
      "image/png": "[encoded data removed]",
      "text/plain": [
       "<matplotlib.figure.Figure at 0x10b95ef90>"
      ]
     },
     "metadata": {},
     "output_type": "display_data"
    }
   ],
   "source": [
    "N = 6\n",
    "trials = 10000\n",
    "E = []\n",
    "for i in range(trials):\n",
    "    A = randn(N, N) + randn(N, N) * 1j\n",
    "    A = mat(A)\n",
    "    A = (A + A.H) / 2\n",
    "    E.append(sorted(eigvalsh(A))[0])\n",
    "\n",
    "E = array(E)\n",
    "# normalization\n",
    "E = N ** (1 / 6) * (E - 2 * sqrt(N))\n",
    "plt.figure(figsize=(8, 8))\n",
    "plt.hist(E, normed=True)\n",
    "plt.title('Smallest eigenvalues distribution of Hermitian matrices', fontsize=18)\n",
    "plt.xlabel(r'$x$', fontsize=18)\n",
    "plt.ylabel(r'$\\rho(x)$', fontsize=18)\n",
    "plt.show()"
   ]
  },
  {
   "cell_type": "markdown",
   "metadata": {},
   "source": [
    "+ **Bidiagonalization (Alan Edelman, 2003)**\n",
    "\n",
    "The bidiagonal of $\\chi$'s can be viewed as a discretization of a **stochastic Bessel operator** \n",
    "\n",
    "$$- \\sqrt{x} \\frac{d}{dx} + \\frac{1}{\\sqrt{2}} dW,$$\n",
    "\n",
    "where $dW$ denotes some white noise.\n",
    "\n",
    "$$\\chi_k \\approx \\sqrt{k} + \\frac{1}{\\sqrt{2}}G$$\n",
    "\n",
    "We use k $\\times$ k $\\chi$'s in the bottom and Gaussians for the rest.\n",
    "\n",
    "+ Some random matrix statistics of the **multivariate hypergeometric functions** are the largest and smallest eigenvalue of a **Wishart matrix**.\n",
    "\n",
    "For example, the Wishart matrix can be written as \n",
    "\n",
    "$$L_n^{\\beta} = B_n^{\\beta} B_n^{\\beta T},$$\n",
    "\n",
    "where\n",
    "\n",
    "$$B_n^{\\beta} = \\begin{pmatrix} \\chi_{2 a} & \\qquad & \\qquad & \\qquad \\\\ \\chi_{(n - 1)\\beta} & \\chi_{2 a - \\beta} & \\qquad & \\qquad \\\\ \\qquad & \\ddots & \\ddots & \\qquad \\\\ \\qquad & \\qquad & \\chi_{\\beta} & \\chi_{2 a - (n - 1) \\beta} \\end{pmatrix},$$\n",
    "\n",
    "where $a > \\frac{\\beta}{2} (n - 1)$.\n",
    "\n",
    "We call it **$\\beta$-Laguerre ensemble**.\n",
    "\n",
    "The probability density function of the smallest eigenvalue of the Wishart matrix is\n",
    "\n",
    "$$p(x) = x^9 e^{- \\frac{3x}{2}} {_{2}F_0^1}(3, 4; ;-2 \\frac{I_2}{x})$$\n",
    "\n",
    "and\n",
    "\n",
    "$$f(x) = x^{kn} e^{- \\frac{n x}{2}} {_{2}F_0^{2 / \\beta}}(-k, \\beta \\frac{n}{2} + 1;;- \\frac{2}{x}I_{n - 1}),$$\n",
    "\n",
    "where $k = a - (n - 1)\\frac{\\beta}{2} -1$ is a nonnegative integer."
   ]
  },
  {
   "cell_type": "code",
   "execution_count": 27,
   "metadata": {},
   "outputs": [
    {
     "data": {
      "image/png": "[encoded data removed]",
      "text/plain": [
       "<matplotlib.figure.Figure at 0x10b928250>"
      ]
     },
     "metadata": {},
     "output_type": "display_data"
    }
   ],
   "source": [
    "N = 5\n",
    "trials = 10000\n",
    "beta = 6\n",
    "#beta = 0.5\n",
    "a = 16\n",
    "#a = 5\n",
    "E = []\n",
    "for i in range(trials):\n",
    "    d1 = sqrt(chisquare(array([j * beta for j in range(int(N - 1), 0, -1)])))\n",
    "    d0 = sqrt(chisquare(array([2 * a - j * beta for j in range(N)])))\n",
    "    B = diag(d1, -1) + diag(d0)\n",
    "    L = dot(B, B.T)\n",
    "    E.append(sorted(eigvalsh(L))[0])\n",
    "\n",
    "E = array(E)\n",
    "plt.figure(figsize=(8, 8))\n",
    "plt.hist(E, normed=True)\n",
    "plt.title('Smallest eigenvalues distribution of Wishart matrices', fontsize=18)\n",
    "plt.xlabel(r'$x$', fontsize=18)\n",
    "plt.ylabel(r'$\\rho(x)$', fontsize=18)\n",
    "plt.show()"
   ]
  },
  {
   "cell_type": "markdown",
   "metadata": {},
   "source": [
    "## 18 Expected number of real eigvalues (Alan Edelman, 1993)\n",
    "\n",
    "$$\\lim_{n \\rightarrow \\infty} \\frac{E_n}{\\sqrt{n}} = \\sqrt{\\frac{2}{\\pi}}$$ \n",
    "\n",
    "where $E_n$ denotes the **expected number of real eigvalues of standard normalized random matrices** uniformly distributed in [-1, 1].\n",
    "\n",
    "+ **Multivariate hypergeometric functions** are used in the proof of this theorem."
   ]
  },
  {
   "cell_type": "code",
   "execution_count": 28,
   "metadata": {},
   "outputs": [
    {
     "name": "stdout",
     "output_type": "stream",
     "text": [
      "n    trials    exprimental En    theoretical En    time(sec)\n",
      "1     100         1.0            0.797884560803      0.00756788253784\n",
      "100     100         8.26            7.97884560803      0.63876414299\n",
      "200     100         11.6            11.283791671      4.13122200966\n",
      "300     100         14.36            13.8197659789      10.0522580147\n",
      "400     100         16.4            15.9576912161      18.7795391083\n",
      "500     100         18.74            17.8412411615      29.6070139408\n"
     ]
    }
   ],
   "source": [
    "ns = [1, 100, 200, 300, 400, 500]\n",
    "trials = 100\n",
    "print r'n    trials    exprimental En    theoretical En    time(sec)'\n",
    "for n in ns:\n",
    "    t1 = time()\n",
    "    E = []\n",
    "    for i in range(trials):\n",
    "        A = randn(n, n)\n",
    "        es = eigvals(A)\n",
    "        total = 0\n",
    "        for e in es:\n",
    "            if e.imag == 0:\n",
    "                total += 1\n",
    "        E.append(total)\n",
    "    E = array(E)\n",
    "    t2 = time()\n",
    "    print n, '   ', trials, '       ', mean(E), '          ', sqrt(2 * n / pi), '    ', t2 - t1"
   ]
  },
  {
   "cell_type": "markdown",
   "metadata": {},
   "source": [
    "## 19 Quarter-circle law\n",
    "\n",
    "+ **singular values** distribution of Gaussian random matrices:\n",
    "\n",
    "$$\\lim_{m \\rightarrow \\infty} \\frac{m \\beta}{n} = \\gamma \\leq 1.$$\n",
    "\n",
    "When $\\gamma = 1$, by making the change of variables $x = y^2$, one obtains the well-known **quarter-circle law** for the singular values of a matrix from $G^{\\beta}(n, n)$.\n",
    "\n",
    "+ The minimum sigular value of an $N \\times N$ standard complex Gaussian matrix H satisfies **(Alan Edelman, 1989; Jianhong Shen(Minnesota), 2001)**\n",
    "\n",
    "$$\\lim_{N \\rightarrow \\infty} P[N \\sigma_{min} > x] = e^{- x - \\frac{x^2}{2}}$$"
   ]
  },
  {
   "cell_type": "code",
   "execution_count": 29,
   "metadata": {},
   "outputs": [
    {
     "data": {
      "image/png": "[encoded data removed]",
      "text/plain": [
       "<matplotlib.figure.Figure at 0x10b95ed50>"
      ]
     },
     "metadata": {},
     "output_type": "display_data"
    }
   ],
   "source": [
    "m = n = 50\n",
    "trials = 1000\n",
    "V = []\n",
    "a = 0\n",
    "b = 2\n",
    "x = linspace(a, b, 1000)\n",
    "for i in range(trials):\n",
    "    A = randn(m, n)\n",
    "    vs = svd(A)[1]\n",
    "    for v in vs: \n",
    "        V.append(v)\n",
    "\n",
    "V = array(V)\n",
    "# normalization\n",
    "V = V / sqrt(m)\n",
    "\n",
    "plt.figure(figsize=(8, 8))\n",
    "plt.hist(V, normed=True, label='Gaussian random matrices')\n",
    "plt.plot(x, sqrt(4 - x ** 2) / pi, label='quarter-circle law')\n",
    "plt.title('Quarter-circle law', fontsize=18)\n",
    "plt.xlabel(r'$x$', fontsize=18)\n",
    "plt.ylabel(r'$\\rho(x)$', fontsize=18)\n",
    "plt.legend(loc='best')\n",
    "plt.show()"
   ]
  },
  {
   "cell_type": "markdown",
   "metadata": {},
   "source": [
    "## 20 Condition number distribution\n",
    "\n",
    "+ **John von Neumann**\n",
    "\n",
    "+ **G. Birkhoff**, **S. Smale** and Demmel\n",
    "\n",
    "+ [Alan Edelman](http://math.mit.edu/~edelman/): **Eigenvalues and Condition Numbers of Random Matrices** (PhD Thesis, 1989)\n",
    "\n",
    "$$\\lim_{n \\rightarrow \\infty} P(\\frac{\\kappa}{n} < x) = e^{- \\frac{2}{x} - \\frac{2}{x^2}}$$\n",
    "\n",
    "The condition number $\\kappa$ is defined as the ratio of the largest to smallest singular values:\n",
    "\n",
    "$$\\kappa = \\lVert A \\rVert \\lVert A^{-1} \\rVert = \\frac{\\sigma_{max}}{\\sigma_{min}}$$"
   ]
  },
  {
   "cell_type": "code",
   "execution_count": 30,
   "metadata": {},
   "outputs": [
    {
     "data": {
      "image/png": "[encoded data removed]",
      "text/plain": [
       "<matplotlib.figure.Figure at 0x10b9514d0>"
      ]
     },
     "metadata": {},
     "output_type": "display_data"
    }
   ],
   "source": [
    "n = 20\n",
    "trials = 5000\n",
    "C = []\n",
    "eps = 1e-10\n",
    "for i in range(trials):\n",
    "    A = randn(n, n) + randn(n, n) * 1j\n",
    "    A = mat(A)\n",
    "    A = (A + A.T) / (4 * sqrt(n))\n",
    "    C.append(cond(A) / n)\n",
    "    \n",
    "C = array(C)\n",
    "num_bins = 100\n",
    "x = linspace(0, 30, 1000)\n",
    "plt.figure(figsize=(8, 8))\n",
    "plt.hist(C, bins=num_bins, normed=True, label='GUE')\n",
    "plt.plot(x, (2 * x + 4) * exp(- 2 / (x + eps) - 2 / (x + eps) ** 2) / (x + eps) ** 3, label='Edelman law')\n",
    "plt.title('Condition number distribution of GUEs', fontsize=18)\n",
    "plt.xlabel(r'$x$', fontsize=18)\n",
    "plt.ylabel(r'$\\rho(x)$', fontsize=18)\n",
    "plt.xlim(0, 30)\n",
    "plt.legend(loc='best')\n",
    "plt.show()"
   ]
  },
  {
   "cell_type": "markdown",
   "metadata": {},
   "source": [
    "## 21 Log determinant\n",
    "\n",
    "The **log-determinant of a Wigner matrix** is a **linear statistic of its singular value**, i.e., the sum of the logarithm of the singular values: $$\\log(\\lvert det(H_n)\\rvert)=2\\Sigma_{k=1}^n \\log(\\sigma_k)$$\n",
    "\n",
    "+ For the non-Hermitian case, due to the **instability of the spectrum** for such matrices, we need to work with the log-determinants $\\log \\lvert det(M_n-z_0) \\rvert$ rather than with the **Stieltjes transform** $\\frac{1}{n}trace(M_n-z_0)^{-1}$ in order to exploit **Girko's Hermitization method**.\n",
    "\n",
    "> Terence Tao & Van Vu. **Random matrices: universality of local spectral statistics of non-hermitian matrices**."
   ]
  },
  {
   "cell_type": "code",
   "execution_count": 31,
   "metadata": {},
   "outputs": [
    {
     "name": "stdout",
     "output_type": "stream",
     "text": [
      "0.394460274815\n"
     ]
    }
   ],
   "source": [
    "A = randn(5, 5)\n",
    "A = (A + A.T) / 2\n",
    "logdet = slogdet(A)[1]\n",
    "print logdet"
   ]
  },
  {
   "cell_type": "markdown",
   "metadata": {},
   "source": [
    "## 22 Partition the singular values of $GUE_n$\n",
    "\n",
    "$$GUE_{\\infty} = LUE_{\\infty} \\cup LUE_{\\infty}$$\n",
    "\n",
    "$$GUE_7 = LUE_3^{\\frac{1}{2}} \\cup LUE_4^{-\\frac{1}{2}}$$\n",
    "\n",
    "+ **Alan Edelman**, 2015, [The Singular Values of the GUE (Less is More)](http://www-math.mit.edu/~edelman/publications/singular_values.pdf)"
   ]
  },
  {
   "cell_type": "markdown",
   "metadata": {},
   "source": [
    "+ We probabilistically un-mix singular values sampled from the $n \\times n$ **GUE** to produce samples distributed as the union of two **Laguerre ensembles**."
   ]
  },
  {
   "cell_type": "code",
   "execution_count": 32,
   "metadata": {},
   "outputs": [
    {
     "data": {
      "image/png": "[encoded data removed]",
      "text/plain": [
       "<matplotlib.figure.Figure at 0x10b8b7490>"
      ]
     },
     "metadata": {},
     "output_type": "display_data"
    }
   ],
   "source": [
    "# number of samples\n",
    "trials = 10000\n",
    "# n = order of GUE\n",
    "n = 7\n",
    "mid_left = int(floor(n / 2))\n",
    "mid_right = int(ceil(n / 2))\n",
    "outlist = zeros((trials, n))\n",
    "# We need a list of all partitions of {1, 2, ..., n} into two balanced parts.\n",
    "# We generate all subsets of size floor(n / 2) and their complements.\n",
    "\n",
    "# a central binomial coefficient\n",
    "cbinom = int(comb(n, mid_left))\n",
    "# subsets of {0, 1, ..., n - 1}\n",
    "parta = array([c for c in combinations(range(n), mid_left)])\n",
    "# their complements\n",
    "partb = zeros((cbinom, mid_right), dtype=int64)\n",
    "\n",
    "for prep in range(cbinom):\n",
    "    partb[prep, :] = array(list(set(range(n)).difference(set(parta[prep, :]))))\n",
    "partitions = concatenate((parta, partb), axis=1)\n",
    "P = zeros(cbinom)\n",
    "                 \n",
    "for rep in range(trials):\n",
    "    # Sample singular values from the GUE of appropriate size\n",
    "    G = randn(n, n) + randn(n, n) * 1j\n",
    "    G = mat(G)\n",
    "    A = (G + G.H) / 2\n",
    "    eiglist = array(sorted(abs(eigvalsh(A))))\n",
    "    e_n = len(eiglist)\n",
    "    # We'll need the differences of the squares of the eigenvalues\n",
    "    singdiffs = zeros((e_n, e_n))\n",
    "    sd = eiglist ** 2 * ones(n)\n",
    "    for i in range(e_n):\n",
    "        singdiffs[i, :] = sd - sd[i]\n",
    "    # The n eigenvalues can be partitioned in binom(n, floor(n/2)) ways. \n",
    "    # Compute the relative densities with common factors ommited.\n",
    "    for prep in range(cbinom):\n",
    "        P[prep] = (abs(prod(eiglist[parta[prep, :]])) / prod(singdiffs[parta[prep, :], :][:, partb[prep, :]])) ** 2\n",
    "    # Separate the singular values with each partition occuring proportionally to its density\n",
    "    outlist[rep, :] = eiglist[partitions[list(nonzero(cumsum(P) > rand() * sum(P))[0]), :][0]]\n",
    "    \n",
    "#plt.figure(figsize=(10, 10))\n",
    "fig, (ax1, ax2) = plt.subplots(nrows=1, ncols=2)\n",
    "ax1.hist(outlist[:, :3].flatten(), label='LUE_3')\n",
    "plt.suptitle('Eigenvalues distribution of GUEs')\n",
    "ax1.legend(loc='best')\n",
    "ax2.hist(outlist[:, 3:].flatten(), label='LUE_4')\n",
    "ax2.legend(loc='best')\n",
    "plt.show()"
   ]
  },
  {
   "cell_type": "markdown",
   "metadata": {},
   "source": [
    "## 23 Sturm sequences\n",
    "\n",
    "> Efficiently compute histograms of eigenvalues for **symmetric tridiagonal matrices** (time complexity $\\mathcal{O}(m n)$) and apply these ideas to random matrix ensembles such as the  $\\beta$-Hermite ensemble, where n is the dimension of the matrix and m is the number of bins (with arbitrary bin centers and widths) desired in the histogram (m is usually much smaller than n).\n",
    "\n",
    "### Definition\n",
    "\n",
    "+ Lower right corner submatrix sequences:\n",
    "\n",
    "$$\\{A_0, A_1, \\dots, A_n\\}$$\n",
    "\n",
    "+ Sturm sequences:\n",
    "\n",
    "$$\\{d_0, d_1, \\dots, d_n\\} = \\{1, |A_1|, \\dots, |A_n|\\}$$\n",
    "\n",
    "+ Sturm ratio sequences:\n",
    "\n",
    "$$r_i = \\frac{d_i}{d_{i - 1}}, i = 1 \\dots n$$\n",
    "\n",
    "### Lemma 1\n",
    "\n",
    "> The number of **sign changes** in the Sturm sequence is equal to the number of **negative eigenvalues** of A.\n",
    "\n",
    "### Lemma 2\n",
    "\n",
    "> The number of **negative values** in the Sturm ratio sequence  is equal to the number of **negative eigenvalues** of A.\n",
    "\n",
    "### Example\n",
    "\n",
    "Given a **symmetric tridiagonal matrix** with values $(a_n, a_{n - 1}, \\dots, a_1)$ on the diagonal and $(b_{n - 1}, b_{n - 2}, \\dots, b_1)$ on the super/sub-diagonal, then\n",
    "\n",
    "$$\n",
    "d_i =\n",
    "\\begin{cases}\n",
    " 1, & i = 0 \\\\\n",
    " a_1, & i = 1\\\\\n",
    " a_i d_{i-1} -b_{i-1}^2 d_{i-2}, & i \\in \\{2, 3, \\dots, n\\}\n",
    "\\end{cases}\n",
    "$$\n",
    "\n",
    "equivalently,\n",
    "\n",
    "$$\n",
    "r_i =\n",
    "\\begin{cases}\n",
    " a_1, & i = 1\\\\\n",
    " a_i -\\frac{b_{i - 1}^2}{r_{i - 1}}, & i \\in \\{2, 3, \\dots, n\\}\n",
    "\\end{cases}\n",
    "$$\n",
    "\n",
    "For $H_n^\\beta$, Sturm ratio sequence of $H_n^\\beta - \\lambda I$:\n",
    "\n",
    "$$\n",
    "r_{i, \\lambda} =\n",
    "\\begin{cases}\n",
    " G(- \\lambda, 1), & i = 1\\\\\n",
    " G(- \\lambda, 1) - \\frac{\\chi_{\\beta (i - 1)}^2}{2 r_{i - 1, \\lambda}}, & i \\in \\{2, 3, \\dots, n\\}\n",
    "\\end{cases}\n",
    "$$\n",
    "\n",
    "For $i \\ge 2$, the density of $r_i$ conditioned on $r_{i - 1}$ is\n",
    "\n",
    "$$f_{r_i|r_{i - 1}}(s_i|s_{i - 1}) = \\frac{|s_{i - 1}|^{p_i}}{\\sqrt{2 \\pi}} e^{- \\frac{1}{4}[2(s_i + \\lambda)^2-z_i^2]^2}D_{- p_i}(z_i)$$\n",
    "\n",
    "where $p_i = \\frac{\\beta (i - 1)}{2}$ and $z_i = sign(s_{i - 1})(s_i + \\lambda + s_{i - 1})$.\n",
    "\n",
    "### Application\n",
    "\n",
    "Separators between histogram bins:\n",
    "\n",
    "$$\\{-\\infty, k_1, k_2, \\dots, k_{m - 1}, \\infty\\}$$\n",
    "\n",
    "Histogram sequence:\n",
    "\n",
    "$$\\{H_1, H_2, \\dots, H_m\\}$$\n",
    "\n",
    "where $H_i$ is the number of eigenvalues between $k_{i - 1}$ and $k_i$ for $1 \\le i \\le m$.\n",
    "\n",
    "Let $\\Lambda(M)$ be the number of negative eigenvalues of a matrix M, then\n",
    "\n",
    "$$H_1 = \\Lambda(A - k_1 I),$$\n",
    "\n",
    "and\n",
    "\n",
    "$$H_i = \\Lambda(A - k_i I) - \\Lambda(A - k_{i - 1} I),i \\in \\{2, 3, \\dots, m - 1\\},$$\n",
    "\n",
    "and\n",
    "\n",
    "$$H_m = n - \\Lambda(A - k_{m - 1} I).$$\n",
    "\n",
    "### Reference\n",
    "\n",
    "James T. Albrecht, Cy P. Chan and **Alan Edelman**, **Sturm sequences and random eigenvalue distributions**, Foundations of Computational Mathematics(FoCM), 2009."
   ]
  },
  {
   "cell_type": "code",
   "execution_count": 33,
   "metadata": {},
   "outputs": [
    {
     "name": "stdout",
     "output_type": "stream",
     "text": [
      "E(# negative eigenvalues): 9.991000\n"
     ]
    }
   ],
   "source": [
    "n = 20\n",
    "alpha = 10\n",
    "# complex\n",
    "beta = 2\n",
    "E = []\n",
    "trials = 1000\n",
    "for i in range(trials):\n",
    "    d1 = sqrt(chisquare(array([j * beta for j in range(int(n - 1), 0, -1)])))\n",
    "    d0 = randn(n)\n",
    "    H = diag(d1, 1) + diag(d0) + diag(d1, -1)\n",
    "    H = H / sqrt(2)\n",
    "    es = eigvalsh(H)\n",
    "    E.append(len(es[es < 0]))\n",
    "    \n",
    "E = array(E)\n",
    "print 'E(# negative eigenvalues): %f' % mean(E)"
   ]
  },
  {
   "cell_type": "code",
   "execution_count": 34,
   "metadata": {},
   "outputs": [
    {
     "name": "stdout",
     "output_type": "stream",
     "text": [
      "E(# negative Sturm ratio): 9.666000\n"
     ]
    }
   ],
   "source": [
    "beta = 2\n",
    "labda = 0\n",
    "n = 20\n",
    "num = []\n",
    "trials = 1000\n",
    "for j in range(trials):\n",
    "    r = []\n",
    "    r1 = 1\n",
    "    for i in range(1, n):\n",
    "        r2 = randn() -labda - chisquare(beta * i) / (2 * r1)\n",
    "        r.append(r2)\n",
    "        r1 = r2\n",
    "    r = array(r)\n",
    "    num.append(len(r[r < 0]))\n",
    "num = array(num)\n",
    "print 'E(# negative Sturm ratio): %f' % mean(num)"
   ]
  },
  {
   "cell_type": "markdown",
   "metadata": {},
   "source": [
    "## 24 Angular sychronization problem\n",
    "\n",
    "> Suppose we want to find n **unknown angles** $\\theta_1, \\theta_2, \\dots, \\theta_n \\in [0, 2 \\pi)$.\n",
    "\n",
    "> We are given $m \\le \\begin{pmatrix} n \\\\ 2 \\end{pmatrix}$ \"noisy\" measurements $\\delta_{ij}$ which are $\\theta_i - \\theta_j$ with probability p and uniformly chosen from $[0, 2 \\pi)$ with probability 1- p. \n",
    "\n",
    "> Our goal is to devise a method that with high probability recovers the angles, under some conditions we impose.\n",
    "\n",
    "**Method**:\n",
    "\n",
    "+ **Eigenvector method**\n",
    "\n",
    "**References**:\n",
    "\n",
    "+ [Fast Angular Synchronization for Phase Retrieval via Incomplete Information](https://math.msu.edu/user_content/docs/FastAngularSync_ViswanthanIwen_201520150924162533237.pdf)\n",
    "\n",
    "+ [Angular Sychronization by Spectral Methods](http://www.mit.edu/~18.338/projects/tran_slides.pdf)"
   ]
  },
  {
   "cell_type": "markdown",
   "metadata": {},
   "source": [
    "## 25 [RMT and Boson computer](http://web.mit.edu/18.338/www/projects/napp_slides.pdf)\n",
    "\n",
    "> The computer $A$ outputs a sample from a probability distribution $\\mathcal{D}_A$.\n",
    "\n",
    "> if there exists a classical algorithm that can efficiently output a sample from a distribution close to $\\mathcal{D}_A$, then $P^{\\#P} = BPP^{NP}$: a drastic consequence for complexity theory!\n",
    "\n",
    "+ The distribution of determinants of some matrix ensemble:\n",
    "\n",
    "$$det(A) = \\Sigma_{j = 1 \\dots n} (-1)^{i + j} a_{ij} A_{ij}$$\n",
    "\n",
    "+ The distribution of permanent absolute values of some matrix ensemble\n",
    "\n",
    "$$Per(A) = \\Sigma_{j = 1 \\dots n} a_{ij} A_{ij}$$\n",
    "\n",
    "> Terence Tao & V. Vu; L. Valiant\n",
    "\n",
    "+ Traditionally, the permanent computation is **NP-hard**.\n",
    "\n",
    "+ But, using **tropical algebra** (semiring algebra), the permanent computation is changed into **#P**.\n",
    "\n",
    "$$Per(A) = \\bigoplus_{j = 1 \\dots n} a_{ij} \\bigotimes A_{ij}$$"
   ]
  },
  {
   "cell_type": "code",
   "execution_count": 35,
   "metadata": {},
   "outputs": [
    {
     "data": {
      "image/png": "[encoded data removed]",
      "text/plain": [
       "<matplotlib.figure.Figure at 0x108a0be90>"
      ]
     },
     "metadata": {},
     "output_type": "display_data"
    }
   ],
   "source": [
    "n = 7\n",
    "trials = 1000\n",
    "P = []\n",
    "for i in range(trials):\n",
    "    A = randn(n, n)\n",
    "    P.append(abs(permanent(A)))\n",
    "\n",
    "P = array(P)\n",
    "plt.figure(figsize=(8, 8))\n",
    "plt.hist(P, normed=True, label='GUE')\n",
    "plt.title('Permanent absolute values distribution of Gaussian matrices', fontsize=18)\n",
    "plt.xlabel(r'$|Per(A)|$', fontsize=18)\n",
    "plt.ylabel('Frequency', fontsize=18)\n",
    "plt.show()"
   ]
  },
  {
   "cell_type": "markdown",
   "metadata": {},
   "source": [
    "## 26 Spike Model\n",
    "\n",
    "> The popular **spiked covariance model**: in which several eigenvalues are significantly larger than all the others, which all equal 1.\n",
    "\n",
    "+ **Stein**, 1956: **Seminal work**\n",
    "\n",
    "+ Feral & **Peche**, 2006\n",
    "\n",
    "+ David L. Donoho, Matan Gavish, Iain M. Johnstone, 2013: [Optimal Shrinkage of Eigenvalues in the Spiked Covariance Model](https://arxiv.org/pdf/1311.0851.pdf)\n"
   ]
  },
  {
   "cell_type": "markdown",
   "metadata": {},
   "source": [
    "> **Loss functions**:\n",
    "\n",
    "+ Stein Loss:\n",
    "\n",
    "$$L^{st}(A, B) = (trace(A^{- 1} B - I) - \\log (\\lvert B \\rvert / \\lvert A \\rvert)) / 2$$\n",
    "\n",
    "Consider the matricial pivot $\\Delta = A^{-1/2} B A^{-1/2}$, then\n",
    "\n",
    "$$L^{st}(A, B) = (trace(\\Delta - I) - \\log \\lvert \\Delta \\rvert) = g(\\Delta)$$\n",
    "\n",
    "+ Entropy/Divergence Loss:\n",
    "\n",
    "$$L^{ent}(A, B) = L^{st}(B, A)$$\n",
    "\n",
    "$$L^{div}(A, B) = L^{st}(A, B) + L^{st}(B, A) = \\frac{1}{2}[trace(A^{-1} B - I) + trace(B^{-1} A - I)]$$\n",
    "\n",
    "+ Bhattarcharya/Matusita Affinity:\n",
    "\n",
    "$$L^{aff} = \\frac{1}{2} \\log \\frac{\\lvert A + B \\rvert / 2}{\\lvert A \\rvert^{1/2} \\lvert B \\rvert^{1/2}}$$\n",
    "\n",
    "Using the pivot $\\Delta = A^{-1/2} B A^{-1/2}$, then\n",
    "\n",
    "$$L^{aff} = \\frac{1}{4} \\log(\\lvert 2 I + \\Delta + \\Delta^{-1} \\rvert /4)$$\n",
    "\n",
    "+ Frechet Discrepancy:\n",
    "\n",
    "$$L^{fre}(A, B) = trace(A + B - 2 A^{1/2} B^{1/2})$$\n",
    "\n",
    "Using the pivot $\\Delta = A^{1/2} - B^{1/2}$, then\n",
    "\n",
    "$$L^{fre} = trace(\\Delta^2)$$\n",
    "\n",
    "+ Squared Error Loss:\n",
    "\n",
    "$$L^{F, 1}(A, B) = \\lVert A - B \\rVert_F^2$$\n",
    "\n",
    "+ Squared Error Loss on Precision:\n",
    "\n",
    "$$L^{F, 2}(A, B) = \\lVert A^{-1} - B^{-1} \\rVert_F^2$$\n",
    "\n",
    "+ Nuclear Norm Loss:\n",
    "\n",
    "$$L^{N, 1}(A, B) = \\lVert A - B \\rVert_\\ast$$\n",
    "\n",
    "where $\\ast$ denotes the sum of singular values."
   ]
  },
  {
   "cell_type": "markdown",
   "metadata": {},
   "source": [
    "> **Spiked Wigner matrix**:\n",
    "\n",
    "+ $\\lambda \\le 1$: $\\lambda_{max}(Y) \\rightarrow 2$ as $n \\rightarrow \\infty$;\n",
    "\n",
    "+ $\\lambda > 1$: $\\lambda_{max}(Y) \\rightarrow \\lambda + \\frac{1}{\\lambda} > 2$ as $n \\rightarrow \\infty$."
   ]
  },
  {
   "cell_type": "code",
   "execution_count": 36,
   "metadata": {},
   "outputs": [
    {
     "name": "stdout",
     "output_type": "stream",
     "text": [
      "2.27588810055\n"
     ]
    }
   ],
   "source": [
    "labda = 2.0\n",
    "n = 1000\n",
    "x = zeros(n)\n",
    "x[0] = 1\n",
    "x = permutation(x)\n",
    "x = x.reshape(n, 1)\n",
    "A = randn(n, n)\n",
    "W = (A + A.T) / 2\n",
    "Y = labda * dot(x, x.T) + W / sqrt(n)\n",
    "e = sorted(eigvals(Y))[-1]\n",
    "print e"
   ]
  },
  {
   "cell_type": "markdown",
   "metadata": {},
   "source": [
    "## 27 Monte Carlo sampling\n",
    "\n",
    "For a sample $\\{x_i\\}_{i = 1}^K$ of **pdf** p(x):\n",
    "\n",
    "$$\\int Q(x) p(x) dx \\approx \\frac{1}{K} \\sum_{i = 1}^K Q(x_i).$$ "
   ]
  }
 ],
 "metadata": {
  "kernelspec": {
   "display_name": "Python 2",
   "language": "python",
   "name": "python2"
  },
  "language_info": {
   "codemirror_mode": {
    "name": "ipython",
    "version": 2
   },
   "file_extension": ".py",
   "mimetype": "text/x-python",
   "name": "python",
   "nbconvert_exporter": "python",
   "pygments_lexer": "ipython2",
   "version": "2.7.13"
  }
 },
 "nbformat": 4,
 "nbformat_minor": 2
}
