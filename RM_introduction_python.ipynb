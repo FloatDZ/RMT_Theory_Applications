{
 "cells": [
  {
   "cell_type": "markdown",
   "metadata": {},
   "source": [
    "# 随机矩阵引论：理论与实践\n",
    "\n",
    "[**Introduction to Random Matrices: Theory and Practice**](https://arxiv.org/pdf/1712.07903.pdf) by Giacomo Livan, Marcel Novaes, Pierpaolo Vivo (2017)\n",
    "\n",
    "该书给出了 **Matlab** 代码实现，下面是我的 **Python 2.7** 代码实现"
   ]
  },
  {
   "cell_type": "markdown",
   "metadata": {},
   "source": [
    "## Chapter 0 辅助函数"
   ]
  },
  {
   "cell_type": "markdown",
   "metadata": {},
   "source": [
    "+ 双阶乘函数"
   ]
  },
  {
   "cell_type": "code",
   "execution_count": 1,
   "metadata": {
    "collapsed": true
   },
   "outputs": [],
   "source": [
    "def double_factorial(n):\n",
    "    x = 1\n",
    "    if n % 2 == 0:\n",
    "        for k in range(int(n / 2)):\n",
    "            x = x * (2 * (k + 1))\n",
    "    else:\n",
    "        for k in range(int((n + 1) / 2)):\n",
    "            x = x * (2 * (k + 1) - 1)\n",
    "    return x"
   ]
  },
  {
   "cell_type": "code",
   "execution_count": 2,
   "metadata": {},
   "outputs": [
    {
     "name": "stdout",
     "output_type": "stream",
     "text": [
      "15 48\n"
     ]
    }
   ],
   "source": [
    "print double_factorial(5), double_factorial(6)"
   ]
  },
  {
   "cell_type": "code",
   "execution_count": 3,
   "metadata": {
    "collapsed": true
   },
   "outputs": [],
   "source": [
    "%notebook inline"
   ]
  },
  {
   "cell_type": "markdown",
   "metadata": {},
   "source": [
    "## Chapter 1 Getting Started\n",
    "\n",
    "+ This program plots a numerical histogram of the **eigenvalue density of Gaussian random matrix ensembles (Orthogonal, Unitary and Symplectic)**. You will be asked to select the ensemble by providing the value of the Dyson beta index (1 for GOE, 2 for GUE, 4 for GSE), to provide the matrix size N, and to choose the number of matrices to be diagonalized."
   ]
  },
  {
   "cell_type": "code",
   "execution_count": 4,
   "metadata": {
    "collapsed": true
   },
   "outputs": [],
   "source": [
    "import numpy as np\n",
    "from numpy import histogram, mat, diff\n",
    "from numpy.linalg import eigvalsh\n",
    "import matplotlib.pyplot as plt"
   ]
  },
  {
   "cell_type": "code",
   "execution_count": 5,
   "metadata": {},
   "outputs": [
    {
     "name": "stdout",
     "output_type": "stream",
     "text": [
      "2\n"
     ]
    },
    {
     "data": {
      "image/png": "[encoded data removed]",
      "text/plain": [
       "<matplotlib.figure.Figure at 0x10651db10>"
      ]
     },
     "metadata": {},
     "output_type": "display_data"
    }
   ],
   "source": [
    "# Choose value of beta (1 for GOE, 2 for GUE, 4 for GSE): \n",
    "beta = input()\n",
    "while beta != 1 and beta != 2 and beta != 4:\n",
    "    print 'Error: beta has to be equal to 1, 2, or 4'\n",
    "    beta = input()\n",
    "    \n",
    "# Choose matrix size: \n",
    "N = 8\n",
    "# Choose number of matrices to be diagonalized: \n",
    "Nmatr = 50000\n",
    "\n",
    "x = []\n",
    "if beta == 1:\n",
    "    # Gaussian Orthogonal Ensemble\n",
    "    for nm in range(Nmatr):\n",
    "        M = np.random.randn(N, N)\n",
    "        M = (M + M.T) / 2\n",
    "        x = np.append(x, eigvalsh(M))\n",
    "elif beta == 2:\n",
    "    # Gaussian Unitary Ensemble\n",
    "    for nm in range(Nmatr):\n",
    "        M = np.random.randn(N, N) + 1j * np.random.randn(N, N)\n",
    "        M = mat(M)\n",
    "        M = (M + M.H) / 2\n",
    "        x = np.append(x, eigvalsh(M))\n",
    "else:\n",
    "    # Gaussian Symplectic Ensemble\n",
    "    for nm in range(Nmatr):\n",
    "        A = np.random.randn(N, N) + 1j * np.random.randn(N, N)\n",
    "        B = np.random.randn(N, N) + 1j * np.random.randn(N, N)\n",
    "        M1 = np.hstack((A, B))\n",
    "        M2 = np.hstack((-np.conjugate(B), np.conjugate(A)))\n",
    "        M = np.vstack((M1, M2))\n",
    "        M = mat(M)\n",
    "        M = (M + M.H) / 2\n",
    "        x = np.append(x, np.unique(eigvalsh(M))) # The unique function gets rid of the double eigenvalues\n",
    "        \n",
    "plt.figure(figsize=(5, 5))\n",
    "# Normalized eigenvalue histogram\n",
    "n, bins = histogram(x, bins=50, normed=1)\n",
    "bins_new = []\n",
    "for i in range(len(bins) - 1):\n",
    "    bins_new.append((bins[i] + bins[i + 1]) / 2)\n",
    "plt.plot(bins_new, n, 'o-')\n",
    "plt.title('Eigenvalue Density', fontsize=18)\n",
    "plt.xlabel(r'$x$', fontsize=18)\n",
    "plt.ylabel(r'$\\rho(x)$', fontsize=18)\n",
    "plt.show()"
   ]
  },
  {
   "cell_type": "markdown",
   "metadata": {},
   "source": [
    "## Chapter 2 Value the eigenvalue\n",
    "\n",
    "+ This program plots a numerical histogram of the **eigenvalue spacing distribution for 2x2 GOE random matrices**, and compares it with the **Wigner surmise**. You will be asked to choose the number of matrices to be diagonalized.\n",
    "\n",
    "> Why is it defined a ’surmise’? After all, it is the result of an exact calculation! The story goes as follows: at a conference on Neutron Physics by Time-of-Flight, held at the Oak Ridge National Laboratory in 1956, people asked a question about the possible shape of the distribution of the spacings of energy levels in a heavy nucleus. E. P. Wigner, who was in the audience, walked up to the blackboard and guessed (= surmised) the answer given above."
   ]
  },
  {
   "cell_type": "code",
   "execution_count": 6,
   "metadata": {},
   "outputs": [
    {
     "name": "stdout",
     "output_type": "stream",
     "text": [
      "50000\n"
     ]
    },
    {
     "data": {
      "image/png": "[encoded data removed]",
      "text/plain": [
       "<matplotlib.figure.Figure at 0x108192bd0>"
      ]
     },
     "metadata": {},
     "output_type": "display_data"
    }
   ],
   "source": [
    "# Choose number of matrices to be diagonalized: \n",
    "Nmatr = input()\n",
    "\n",
    "x = []\n",
    "\n",
    "for nm in range(Nmatr):\n",
    "    #M = np.random.randn(2, 2) / np.sqrt(2)\n",
    "    m1 = np.random.randn()\n",
    "    m2 = np.random.randn()\n",
    "    m3 = np.random.randn() / np.sqrt(2)\n",
    "    M = np.array([[m1, m3], [m3, m2]])\n",
    "    x = np.append(x, abs(diff(eigvalsh(M))))   \n",
    "    \n",
    "plt.figure(figsize=(5, 5))\n",
    "# Normalized spacing histogram\n",
    "n, bins = histogram(x, bins=50, normed=1)\n",
    "bins_new = []\n",
    "for i in range(len(bins) - 1):\n",
    "    bins_new.append((bins[i] + bins[i + 1]) / 2)\n",
    "plt.plot(bins_new, n, 'or')\n",
    "\n",
    "x_new = np.linspace(0, np.max(x), 100)\n",
    "# Definition of the Wigner surmise function\n",
    "p = lambda s: s * np.exp(- s ** 2 / 4) / 2\n",
    "plt.plot(x_new, p(x_new))\n",
    "plt.title('Wigner surmise', fontsize=18)\n",
    "plt.xlabel(r'$s$', fontsize=18)\n",
    "plt.ylabel(r'$p(s)$', fontsize=18)\n",
    "plt.show()"
   ]
  },
  {
   "cell_type": "markdown",
   "metadata": {},
   "source": [
    "## Chapter 3 Classified Material & Chapter 4 The fluid semicircle\n",
    "\n",
    "+ This program generates the **equilibrium density of the Coulomb gas of particles (eigenvalues)** discussed in Chapters 3 and 4, and compares it to the **semicircle distribution**. Starting from an initial random particle configuration, a simple Monte Carlo scheme is applied: at each time step the program tries to change the position of a randomly selected particle by a Gaussian increment epsilon. The move is accepted with probability min(1, exp(-beta*DeltaH)), where DeltaH is the energy difference caused by the move. You will be asked to specify the number N of particles in the gas (which is equivalent to the matrix size in the corresponding ensemble), and the value of the Dyson Index beta, which in this context plays the role of the system's inverse temperature. You will also be asked to select the number of Monte Carlo sweeps, where one sweep corresponds to N attempted moves.  A good rule of thumb is to accept roughly 35-50% of the proposed Monte Carlo moves, and the standard deviation of the increments must be tuned accordingly. The program's default value is set at 10/sqrt(N)."
   ]
  },
  {
   "cell_type": "code",
   "execution_count": 7,
   "metadata": {
    "collapsed": true
   },
   "outputs": [],
   "source": [
    "import numpy as np\n",
    "from numpy import histogram\n",
    "import matplotlib.pyplot as plt\n",
    "\n",
    "from __future__ import division"
   ]
  },
  {
   "cell_type": "code",
   "execution_count": 8,
   "metadata": {
    "scrolled": true
   },
   "outputs": [
    {
     "name": "stdout",
     "output_type": "stream",
     "text": [
      "1\n",
      "Sweep number:  0\n",
      "Accepted moves: 0.546\n",
      "Sweep number:  100\n",
      "Accepted moves: 0.348\n",
      "Sweep number:  200\n",
      "Accepted moves: 0.350\n",
      "Sweep number:  300\n",
      "Accepted moves: 0.356\n",
      "Sweep number:  400\n",
      "Accepted moves: 0.348\n",
      "Sweep number:  500\n",
      "Accepted moves: 0.362\n",
      "Sweep number:  600\n",
      "Accepted moves: 0.366\n",
      "Sweep number:  700\n",
      "Accepted moves: 0.382\n",
      "Sweep number:  800\n",
      "Accepted moves: 0.364\n",
      "Sweep number:  900\n",
      "Accepted moves: 0.404\n"
     ]
    },
    {
     "data": {
      "image/png": "[encoded data removed]",
      "text/plain": [
       "<matplotlib.figure.Figure at 0x1081df190>"
      ]
     },
     "metadata": {},
     "output_type": "display_data"
    }
   ],
   "source": [
    "N = 500 # Number of particles (matrix size)\n",
    "Nsweeps = 1000 # Number of sweeps. A sweep consists of N attempted Monte Carlo moves\n",
    "\n",
    "beta = input() # Inverse temperature / Dyson index\n",
    "while beta != 1 and beta != 2 and beta != 4:\n",
    "    print 'Error: beta has to be equal to 1, 2, or 4'\n",
    "    beta = input()\n",
    "\n",
    "sigma = 10 / np.sqrt(N) # Standard deviation of the Gaussian distribution for Monte Carlo moves\n",
    "\n",
    "# Initial uniform distribution of particles between -sqrt(2*N) and sqrt(2*N)\n",
    "x = -np.sqrt(2 * N) + 2 * np.sqrt(2 * N) * np.random.rand(N)\n",
    "\n",
    "for ns in range(Nsweeps):\n",
    "    count = 0\n",
    "    for n in range(N):\n",
    "        k = np.random.randint(N) # Random selection of a particle\n",
    "        epsilon = sigma * np.random.randn() # Size of the proposed position shift of particle k\n",
    "        \n",
    "        # The particles' positions (except for particle k) are stored in \n",
    "        # an auxiliary vector aux, which is used to compute the change in\n",
    "        # energy (Hamiltonian) upon moving particle k from its current \n",
    "        # position x(k) to x(k)+epsilon\n",
    "        \n",
    "        aux = np.hstack((x[0:k], x[k+1:]))\n",
    "        \n",
    "        # Change in energy\n",
    "        DeltaH = epsilon ** 2 + epsilon * x[k] + np.sum(np.log(abs(x[k] - aux) / abs(x[k] + epsilon - aux)))\n",
    "        # The position change of particle k is accepted with probability min(1,exp(-beta*DeltaH))\n",
    "        if min(1, np.exp(-beta * DeltaH)) > np.random.rand():\n",
    "            x[k] = x[k] + epsilon\n",
    "            count = count + 1\n",
    "    \n",
    "    # Printing to screen the number of completed sweeps, and the fraction of accepted moves in the latest sweep\n",
    "    if ns % 100 == 0:\n",
    "        print 'Sweep number: % d\\nAccepted moves: %4.3f' % (ns, count / N)\n",
    "\n",
    "# Plot of normalized particle density and Wigner's semicircle\n",
    "plt.figure(figsize=(5, 5))\n",
    "\n",
    "#n, bins, patches = plt.hist(x, bins=30, normed=1, facecolor='None', edgecolor='black',alpha=1, histtype='bar')\n",
    "n, bins = histogram(x, bins=30, normed=1)\n",
    "bins_new = []\n",
    "for i in range(len(bins) - 1):\n",
    "    bins_new.append((bins[i] + bins[i + 1]) / 2)\n",
    "plt.scatter(bins_new, n)\n",
    "\n",
    "# Definition of the semicircle distribution function\n",
    "rho = lambda x: np.sqrt(2 * N - x ** 2) / (np.pi * N)\n",
    "# Plot of the semicircle distribution (between -sqrt(2*N) and sqrt(2*N))\n",
    "x_sc = np.linspace(-np.sqrt(2 * N), np.sqrt(2 * N), N)\n",
    "plt.plot(x_sc, rho(x_sc), 'r')\n",
    "plt.title('Particle Density', fontsize=18)\n",
    "plt.xlabel('x', fontsize=18)\n",
    "plt.ylabel(r'$\\rho(x)$', fontsize=18)\n",
    "plt.xticks([-np.sqrt(2 * N), 0, np.sqrt(2*N)], [r'$-\\sqrt{2N}$','0',r'$\\sqrt{2N}$'])\n",
    "plt.show()"
   ]
  },
  {
   "cell_type": "markdown",
   "metadata": {},
   "source": [
    "## Chapter 5 Saddle-point-of-view\n",
    "\n",
    "+ This program computes the results of Eqs. (5.21) and (5.22) and prints their values to screen\n",
    "\n",
    "+ The fact that the soft edges are symmetrically located around the origin is a consequence of the symmetry of the confining potential under the exchange $x \\rightarrow -x$.\n",
    "\n",
    "+ **Question:** If I drop the symmetry requirements on the entries of the ensemble ($H_{ij}\\ne H_{ji}$), what is the resulting analogue of the semicircle law for complex eigenvalues?\n",
    "\n",
    "> This is called the **Girko-Ginibre (or circular) law**. In essence, for any sequence of random N × N matrices whose entries are i.i.d. random variables, all with mean zero and variance equal to 1/N, the limiting spectral density is the **uniform distribution over the unit disc in the complex plane**."
   ]
  },
  {
   "cell_type": "code",
   "execution_count": 9,
   "metadata": {
    "collapsed": true
   },
   "outputs": [],
   "source": [
    "import numpy as np\n",
    "from numpy import histogram, mat, diff\n",
    "from numpy.linalg import eigvalsh\n",
    "from scipy.integrate import quad\n",
    "import matplotlib.pyplot as plt\n",
    "\n",
    "from __future__ import division"
   ]
  },
  {
   "cell_type": "code",
   "execution_count": 10,
   "metadata": {},
   "outputs": [
    {
     "name": "stdout",
     "output_type": "stream",
     "text": [
      "Result of Eq. 5.21: 0.5483\n",
      "Result of Eq. 5.22: 0.5483\n"
     ]
    }
   ],
   "source": [
    "# Endpoints of semicircle density\n",
    "a = -np.sqrt(2)\n",
    "b = -a\n",
    "\n",
    "# Definition of the semicircle distribution function\n",
    "sc = lambda x: np.sqrt(2 - x ** 2) / np.pi\n",
    "\n",
    "# Integrand functions of the two integrals in Eq. (5.21)\n",
    "integrand1 = lambda x: sc(x) * x ** 2\n",
    "integrand2 = lambda x: sc(x) * np.log(x - a)\n",
    "\n",
    "# Computing Eq. (5.21)\n",
    "f_int = quad(integrand1, a, b)[0] / 4 + a ** 2 / 4 - quad(integrand2, a, b)[0] / 2\n",
    "\n",
    "# Computing Eq. (5.22)\n",
    "f = (-9 * a ** 4 + 4 * a ** 3 * b + 2 * a ** 2 * (5 * b ** 2 + 48) + 4 * a * b * (b ** 2 + 16) \n",
    "     - 256 * np.log(b - a) -9 * b ** 4 + 96 * b ** 2 + 512 * np.log(2)) / 512\n",
    "\n",
    "print 'Result of Eq. 5.21: %5.4f' % f_int\n",
    "print 'Result of Eq. 5.22: %5.4f' % f"
   ]
  },
  {
   "cell_type": "markdown",
   "metadata": {},
   "source": [
    "+ This short code performs a numerical check of the **Tricomi equation** (5.14), where n*(x) is the semicircle density. The density is computed over a number Npts of points in the interval (-sqrt(2),sqrt(2)). The value in each point s is computed as a principal value integral, i.e. by splitting the integration domain (a,b) into two parts (a,s-eps) and (s+eps,b). You will be asked to enter the value of a parameter eps, which determines the accuracy with which the integral is computed, and the number of points where the integral is computed."
   ]
  },
  {
   "cell_type": "code",
   "execution_count": 11,
   "metadata": {},
   "outputs": [
    {
     "name": "stdout",
     "output_type": "stream",
     "text": [
      "1000\n"
     ]
    },
    {
     "name": "stderr",
     "output_type": "stream",
     "text": [
      "/Users/brucelee/miniconda2/lib/python2.7/site-packages/ipykernel_launcher.py:17: RuntimeWarning: invalid value encountered in sqrt\n",
      "/Users/brucelee/miniconda2/lib/python2.7/site-packages/scipy/integrate/quadpack.py:364: IntegrationWarning: The occurrence of roundoff error is detected, which prevents \n",
      "  the requested tolerance from being achieved.  The error may be \n",
      "  underestimated.\n",
      "  warnings.warn(msg, IntegrationWarning)\n"
     ]
    },
    {
     "data": {
      "image/png": "[encoded data removed]",
      "text/plain": [
       "<matplotlib.figure.Figure at 0x104b34750>"
      ]
     },
     "metadata": {},
     "output_type": "display_data"
    }
   ],
   "source": [
    "# Reads the number of points where the Tricomi equation integral is computed\n",
    "Npts = input()\n",
    "\n",
    "# Reads the value which determines the accuracy of the principal value \n",
    "# integral (values in the range 1e-1 - 1e-10 are recommended)\n",
    "eps = 1e-5\n",
    "\n",
    "# Endpoints of semicircle density\n",
    "a = -np.sqrt(2)\n",
    "b = -a\n",
    "\n",
    "# Setting the interval over which the Tricomi equation integral is computed\n",
    "s = np.linspace(a, b, Npts)\n",
    "v = np.zeros(Npts)\n",
    "\n",
    "# Integrand function of the Tricomi equation integral\n",
    "sc = lambda x: np.sqrt(2 - x ** 2) / np.pi\n",
    "\n",
    "for i in range(Npts):\n",
    "    # Here the above integrand function is specialized to the particular\n",
    "    # point s(i) where the integral is going to be computed\n",
    "    integrand = lambda x: sc(x) / (s[i] - x)\n",
    "    \n",
    "    # Principal value integral\n",
    "    v[i] = quad(integrand, a, s[i] - eps)[0] + quad(integrand, s[i] + eps, b)[0]\n",
    "    \n",
    "# Plotting the results of the principal value integrals and comparing them with the bisector line\n",
    "plt.figure(figsize=(5, 5))\n",
    "plt.plot(s, s, 'b')\n",
    "plt.plot(s, v, 'or')\n",
    "plt.title('Numerical check of Tricomi equation', fontsize=18)\n",
    "plt.xlabel(r'$x$', fontsize=18)\n",
    "plt.ylabel(r'$\\mathrm{PV \\ integral}$', fontsize=18)\n",
    "plt.show()"
   ]
  },
  {
   "cell_type": "markdown",
   "metadata": {},
   "source": [
    "+ This program plots a numerical histogram of the **rescaled densities for all three Gaussian Ensembles**, and compares them with the semicircle distribution. You will be asked to choose both the size and the number of matrices to be diagonalized (for each of the three ensembles)."
   ]
  },
  {
   "cell_type": "code",
   "execution_count": 12,
   "metadata": {},
   "outputs": [
    {
     "name": "stderr",
     "output_type": "stream",
     "text": [
      "/Users/brucelee/miniconda2/lib/python2.7/site-packages/ipykernel_launcher.py:10: RuntimeWarning: invalid value encountered in sqrt\n",
      "  # Remove the CWD from sys.path while we load stuff.\n"
     ]
    },
    {
     "data": {
      "image/png": "[encoded data removed]",
      "text/plain": [
       "<matplotlib.figure.Figure at 0x104dcd690>"
      ]
     },
     "metadata": {},
     "output_type": "display_data"
    }
   ],
   "source": [
    "# Choose matrix size: \n",
    "# N = 10\n",
    "N = 100\n",
    "# N = 1000\n",
    "\n",
    "# Choose number of matrices to be diagonalized: \n",
    "Nmatr = 100\n",
    "\n",
    "# Definition of the semicircle distribution function\n",
    "rho = lambda x: np.sqrt(2 - x ** 2) / np.pi\n",
    "\n",
    "x1 = []; x2 = []; x4 = []\n",
    "\n",
    "for nm in range(Nmatr):\n",
    "    # GOE\n",
    "    M = np.random.randn(N, N) / np.sqrt(N)\n",
    "    M = (M + M.T) / 2\n",
    "    x1 = np.append(x1, eigvalsh(M))\n",
    "    \n",
    "    # GUE\n",
    "    M = (np.random.randn(N, N) + 1j * np.random.randn(N, N)) / np.sqrt(2 * N)\n",
    "    M = mat(M)\n",
    "    M = (M + M.H) / 2\n",
    "    x2 = np.append(x2, eigvalsh(M))\n",
    "    \n",
    "    # GSE\n",
    "    A = (np.random.randn(N, N) + 1j * np.random.randn(N, N)) / np.sqrt(4 * N)\n",
    "    B = (np.random.randn(N, N) + 1j * np.random.randn(N, N)) / np.sqrt(4 * N)\n",
    "    M1 = np.hstack((A, B))\n",
    "    M2 = np.hstack((-np.conjugate(B), np.conjugate(A)))\n",
    "    M = np.vstack((M1, M2))\n",
    "    M = mat(M)\n",
    "    M = (M + M.H) / 2\n",
    "    x4 = np.append(x4, np.unique(eigvalsh(M)))\n",
    "    \n",
    "plt.figure(figsize=(10, 10))\n",
    "\n",
    "# Plot of the semicircle distribution\n",
    "x = np.linspace(-np.sqrt(2), np.sqrt(2), 100)\n",
    "semicircle, = plt.plot(x, rho(x), 'b')\n",
    "\n",
    "# Normalized eigenvalue histogram\n",
    "n1, bins1 = histogram(x1, bins=50, normed=1)\n",
    "n2, bins2 = histogram(x2, bins=50, normed=1)\n",
    "n4, bins4 = histogram(x4, bins=50, normed=1)\n",
    "bins_new1 = []\n",
    "for i in range(len(bins1) - 1):\n",
    "    bins_new1.append((bins1[i] + bins1[i + 1]) / 2)\n",
    "\n",
    "bins_new2 = []\n",
    "for i in range(len(bins2) - 1):\n",
    "    bins_new2.append((bins2[i] + bins2[i + 1]) / 2)\n",
    "    \n",
    "bins_new4 = []\n",
    "for i in range(len(bins4) - 1):\n",
    "    bins_new4.append((bins4[i] + bins4[i + 1]) / 2)\n",
    "\n",
    "GOE, = plt.plot(bins_new1, n1, 'or-')\n",
    "GUE, = plt.plot(bins_new2, n2, 'ok-')\n",
    "GSE, = plt.plot(bins_new4, n4, 'om-')\n",
    "\n",
    "plt.title('Rescaled Eigenvalue Densities', fontsize=18)\n",
    "plt.xlabel(r'$x$', fontsize=18)\n",
    "plt.ylabel(r'$\\rho(x)$', fontsize=18)\n",
    "plt.xlim((-2, 2))\n",
    "#plt.xticks([-np.sqrt(2), 0, np.sqrt(2)], [r'$-\\sqrt{2}$','0',r'$\\sqrt{2}$'])\n",
    "plt.legend(handles=[semicircle, GOE, GUE, GSE], labels=['SemiCircle', 'GOE', 'GUE', 'GSE'], loc='upper right')\n",
    "plt.show()"
   ]
  },
  {
   "cell_type": "markdown",
   "metadata": {},
   "source": [
    "## Chapter 8 Resolve(nt) the semicircle\n",
    "\n",
    "+ This program provides a quick numerical verification that the two **resolvent** branches in eq. (8.20) match eq. (8.5) for different signs. Namely, you will be asked to choose the real and imaginary parts of a complex number z (with real part such that -sqrt(2) < Real(z) < sqrt(2)). For small values of the imaginary parts you will be able to verify that G_plus matches the resolvent for -sqrt(2) < Real(z) < 0, whereas G_minus matches it for 0 < Real(z) < sqrt(2)."
   ]
  },
  {
   "cell_type": "code",
   "execution_count": 13,
   "metadata": {
    "collapsed": true
   },
   "outputs": [],
   "source": [
    "import numpy as np\n",
    "from scipy.integrate import quad"
   ]
  },
  {
   "cell_type": "code",
   "execution_count": 14,
   "metadata": {},
   "outputs": [
    {
     "name": "stdout",
     "output_type": "stream",
     "text": [
      "0.5\n",
      "2\n",
      "Value of resolvent in z: 0.0890+0.0000i\n",
      "Value of G plus in z: 0.9110-4.4329i\n",
      "Value of G minus in z: 0.0890+0.4329i\n"
     ]
    },
    {
     "name": "stderr",
     "output_type": "stream",
     "text": [
      "/Users/brucelee/miniconda2/lib/python2.7/site-packages/scipy/integrate/quadpack.py:388: ComplexWarning: Casting complex values to real discards the imaginary part\n",
      "  return _quadpack._qagse(func,a,b,args,full_output,epsabs,epsrel,limit)\n"
     ]
    }
   ],
   "source": [
    "re = input()\n",
    "\n",
    "while abs(re) >= np.sqrt(2):\n",
    "    print 'ERROR: Real(z) must be smaller than sqrt(2) in absolute value'\n",
    "    re = input()\n",
    "\n",
    "im = input()\n",
    "z = re - 1j * im\n",
    "\n",
    "# The value of the resolvent is computed in z\n",
    "G = quad(lambda x: np.sqrt(2 - x ** 2) / (np.pi * (z - x)), -np.sqrt(2), np.sqrt(2))[0]\n",
    "\n",
    "G_plus = lambda x: x + np.sqrt(x ** 2 - 2)\n",
    "G_minus = lambda x: x - np.sqrt(x ** 2 - 2)\n",
    "\n",
    "print 'Value of resolvent in z: %6.4f%+6.4fi' % (G.real, G.imag)\n",
    "print 'Value of G plus in z: %6.4f%+6.4fi' % (G_plus(z).real, G_plus(z).imag)\n",
    "print 'Value of G minus in z: %6.4f%+6.4fi' % (G_minus(z).real, G_minus(z).imag)"
   ]
  },
  {
   "cell_type": "markdown",
   "metadata": {},
   "source": [
    "## Chapter 10 Finite N\n",
    "\n",
    "+ What does in the bulk mean? The point is that Hermite polynomials (and other classical orthogonal polynomials) have two different asymptotics, according to the way their argument and parameter scale with N. This in turns corresponds to different regimes, namely different locations x where the spectrum is looked at, and different zooming resolutions."
   ]
  },
  {
   "cell_type": "markdown",
   "metadata": {},
   "source": [
    "## Chapter 11 Meet Andréief\n",
    "\n",
    "+ This program performs an indirect numerical check of the **Andréief identity** by verifying that the equations reported in Chapter 11 (see, e.g., eq. (11.9)) correctly provide the **probability of a GUE matrix having a certain number of positive eigenvalues**. You will be asked to provide the matrix size N and the number n of positive eigenvalues. First, you will be shown the analytical prediction computed by the program for the aforementioned probability. Based on that, you will be able to choose the number of matrices to diagonalize numerically in order to obtain a numerical estimate for the same probability."
   ]
  },
  {
   "cell_type": "markdown",
   "metadata": {},
   "source": [
    "### 数值实验"
   ]
  },
  {
   "cell_type": "code",
   "execution_count": 15,
   "metadata": {
    "collapsed": true
   },
   "outputs": [],
   "source": [
    "import numpy as np\n",
    "from numpy import *\n",
    "from numpy.linalg import eigvalsh\n",
    "import matplotlib.pyplot as plt\n",
    "\n",
    "from __future__ import division"
   ]
  },
  {
   "cell_type": "code",
   "execution_count": 16,
   "metadata": {},
   "outputs": [
    {
     "name": "stdout",
     "output_type": "stream",
     "text": [
      "Numerically estimated probability of GUE matrix of size 5 having 2 positive eigenvalues: 45.80%\n"
     ]
    }
   ],
   "source": [
    "N = 5 # size of a GUE matrix\n",
    "n = 2 # number of eigenvalues of a GUE matrix is positive\n",
    "Nmatr = 1000 # samples of GUE matrices\n",
    "\n",
    "count = 0\n",
    "for nm in range(Nmatr):\n",
    "    M = np.random.randn(N, N) + 1j * np.random.randn(N, N)\n",
    "    M = mat(M)\n",
    "    M = (M + M.H) / 2\n",
    "    eigvals_pos = filter(lambda e: e > 0, eigvalsh(M))\n",
    "    if len(eigvals_pos) == n:\n",
    "        count = count + 1\n",
    "    \n",
    "p = count / Nmatr\n",
    "print 'Numerically estimated probability of GUE matrix of size %d having %d positive eigenvalues: %.2f%%' % (N, n, p * 100.0)"
   ]
  },
  {
   "cell_type": "markdown",
   "metadata": {},
   "source": [
    "### 符号计算\n",
    "\n",
    "+ 这里，使用sympy库进行高维矩阵的符号计算非常慢，利用**符号计算(symbolic computation)**方法应该可以大幅改进算法效率"
   ]
  },
  {
   "cell_type": "code",
   "execution_count": 17,
   "metadata": {
    "collapsed": true
   },
   "outputs": [],
   "source": [
    "from sympy import Matrix, Symbol, zeros, diff, det, factorial, simplify, exp, sin"
   ]
  },
  {
   "cell_type": "code",
   "execution_count": 18,
   "metadata": {},
   "outputs": [
    {
     "name": "stdout",
     "output_type": "stream",
     "text": [
      "Theoretical probability of GUE matrix of size 5 having 2 positive eigenvalues: 49.04%\n"
     ]
    }
   ],
   "source": [
    "N = 5 # size of a GUE matrix\n",
    "n = 2 # number of eigenvalues of a GUE matrix is positive\n",
    "\n",
    "z = Symbol('z', integer=True)\n",
    "A = Matrix(N, N, lambda j, k: ((-1) ** (j + k) + z) * 2 ** (((j + k) - 3) / 2) * factorial(((j + k) - 1) / 2))\n",
    "B = Matrix(N, N, lambda j, k: ((-1) ** (j + k) + 1) * 2 ** (((j + k) - 3) / 2) * factorial(((j + k) - 1) / 2))\n",
    "\n",
    "\n",
    "phi = A.det() / B.det()\n",
    "phi_der = diff(phi, z, n) / factorial(n)\n",
    "\n",
    "p = phi_der.subs(z, 0)\n",
    "print 'Theoretical probability of GUE matrix of size %d having %d positive eigenvalues: %.2f%%' % (N, n, p.evalf() * 100.0)"
   ]
  },
  {
   "cell_type": "markdown",
   "metadata": {},
   "source": [
    "+ This code performs a symbolic check of the **Toda recurrence** of equations (11.11) and (11.12). You will be asked to type in a function a0(x) that will be used to fill the entries of the tau matrices through derivation, i.e. a1(x) = a0'(x), a2(x) = a1'(x) = a0''(x), and so on."
   ]
  },
  {
   "cell_type": "code",
   "execution_count": 19,
   "metadata": {},
   "outputs": [
    {
     "name": "stdout",
     "output_type": "stream",
     "text": [
      "3\n",
      "The difference between the two sides of equation (11.12) is: 0.00\n"
     ]
    }
   ],
   "source": [
    "x = Symbol('x', integer=True)\n",
    "\n",
    "# Reads the function a0 to be used in the example. In order for the code\n",
    "# to produce a result quickly we recommend using a smooth and simple\n",
    "# function, e.g. a0(x) = cos(x), a0(x) = exp(-x)\n",
    "a0 = exp(x)\n",
    "\n",
    "# Choose value of n: \n",
    "n = input()\n",
    "\n",
    "# Allocating space for matrices that will be used to derive the functions\n",
    "# tau_n and tau_{n+1}\n",
    "tau_n = Matrix(n, n, lambda j, k: diff(a0, x, j + k))\n",
    "tau_n_plus_1 = Matrix(n + 1, n + 1, lambda j, k: diff(a0, x, j + k))\n",
    "\n",
    "# Computing values of tau functions as determinants of tau matrices\n",
    "tau_n_minus_1 = det(tau_n[0:-1, 0:-1])\n",
    "tau_n = simplify(det(tau_n))\n",
    "tau_n_plus_1 = simplify(det(tau_n_plus_1))\n",
    "\n",
    "# Computing difference between the two sides of equation (11.12)\n",
    "res = simplify(diff(tau_n, x, 2) * tau_n - (diff(tau_n, x, 1)) ** 2 - tau_n_minus_1 * tau_n_plus_1)\n",
    "print 'The difference between the two sides of equation (11.12) is: %3.2f' % res.evalf()"
   ]
  },
  {
   "cell_type": "markdown",
   "metadata": {},
   "source": [
    "## Chapter 12 Finite N is not finished\n",
    "\n",
    "+ This program plots a histogram of the **eigenvalue density obtained from the numerical diagonalization of random matrices from the Gaussian ensembles**, and compares it with the theoretical densities (eq. (12.22)  for the GOE, (10.21) for the GUE, (12.38) for the GSE). You will be asked to select the ensemble by providing the value of the Dyson beta index (1 for GOE, 2 for GUE, 4 for GSE), to provide the matrix size N, and to choose the number of matrices to be diagonalized."
   ]
  },
  {
   "cell_type": "code",
   "execution_count": 20,
   "metadata": {
    "collapsed": true
   },
   "outputs": [],
   "source": [
    "import numpy as np\n",
    "from numpy import histogram, mat, diff, trapz, sign\n",
    "from numpy.linalg import eigvalsh\n",
    "from scipy.integrate import quad\n",
    "from scipy.special import hermite, factorial\n",
    "import matplotlib.pyplot as plt\n",
    "\n",
    "from __future__ import division"
   ]
  },
  {
   "cell_type": "code",
   "execution_count": 21,
   "metadata": {},
   "outputs": [
    {
     "name": "stdout",
     "output_type": "stream",
     "text": [
      "2\n",
      "8\n"
     ]
    },
    {
     "data": {
      "image/png": "[encoded data removed]",
      "text/plain": [
       "<matplotlib.figure.Figure at 0x108feae10>"
      ]
     },
     "metadata": {},
     "output_type": "display_data"
    }
   ],
   "source": [
    "# Choose value of beta (1 for GOE, 2 for GUE, 4 for GSE): \n",
    "beta = input()\n",
    "\n",
    "# Choose matrix size: \n",
    "N = input()\n",
    "# N = 8\n",
    "\n",
    "if beta == 1:\n",
    "    while N % 2 != 0:\n",
    "        print 'Error: N has to be even for beta = 1'\n",
    "        N = input()\n",
    "\n",
    "# Choose number of matrices to be diagonalized: \n",
    "Nmatr = 50000\n",
    "\n",
    "E = []\n",
    "\n",
    "# The following IF condition selects the desired ensemble: a number Nmatr\n",
    "# of matrices are diagonalized, and the eigenvalues are collected in the \n",
    "# vector E\n",
    "\n",
    "if beta == 1:\n",
    "    # Gaussian Orthogonal Ensemble\n",
    "    for nm in range(Nmatr):\n",
    "        M = np.random.randn(N, N)\n",
    "        M = (M + M.T) / 2\n",
    "        E = np.append(E, eigvalsh(M))\n",
    "    \n",
    "    x = np.linspace(np.min(E), np.max(E), 1000)\n",
    "    \n",
    "    # Computing the GOE density for finite even N (eq. 11.21)\n",
    "    rho = np.zeros(len(x))\n",
    "    a_N = 1\n",
    "    for k in range(int(N / 2)):\n",
    "        R_2k = np.array(map(hermite(2 * k), x)) * np.sqrt(2) / (np.pi ** (1 / 4) * 2 ** k * double_factorial(2 * k))\n",
    "        \n",
    "        if k == 0:\n",
    "            R_2k1 = (-np.array(map(hermite(2 * k + 1), x))) * np.sqrt(2) / (np.pi ** (1 / 4) * 2 ** (k + 2) * double_factorial(2 * k - 1))\n",
    "        else:\n",
    "            R_2k1 = (4 * k * np.array(map(hermite(2 * k - 1), x)) - np.array(map(hermite(2 * k + 1), x))) * np.sqrt(2) / (np.pi ** (1 / 4) * 2 ** (k + 2) * double_factorial(2 * k - 1))\n",
    "        \n",
    "        Phi_2k = np.zeros(len(x)); Phi_2k1 = np.zeros(len(x))\n",
    "        \n",
    "        for i in range(len(x)):\n",
    "            Phi_2k[i] = trapz(np.multiply(np.multiply(R_2k, np.exp(-np.power(x, 2) / 2)), sign(x[i] - x)), x)\n",
    "            Phi_2k1[i] = trapz(np.multiply(np.multiply(R_2k1, np.exp(-np.power(x, 2) / 2)), sign(x[i]-x)), x)\n",
    "        \n",
    "        rho = np.add(rho, np.multiply(np.exp(-np.power(x, 2) / 2), (np.multiply(R_2k, Phi_2k1) - np.multiply(R_2k1, Phi_2k))))\n",
    "        a_N = a_N * factorial(2 * k)\n",
    "        \n",
    "    a_N = (-1) ** (N / 2) * 2 ** (N * (N - 2) / 4) / (np.pi ** (N / 4) * a_N)\n",
    "    Z = factorial(N) * a_N * 2 ** (N/2)\n",
    "    rho = factorial(N - 1) * 2 ** (N / 2 - 1) * a_N * rho\n",
    "    rho = rho / Z\n",
    "    \n",
    "elif beta == 2:\n",
    "    # Gaussian Unitary Ensemble\n",
    "    for nm in range(Nmatr):\n",
    "        M = np.random.randn(N, N) + 1j * np.random.randn(N, N)\n",
    "        M = mat(M)\n",
    "        M = (M + M.H) / 2\n",
    "        E = np.append(E, eigvalsh(M))\n",
    "    \n",
    "    x = np.linspace(np.min(E), np.max(E), 1000)\n",
    "    \n",
    "    # Computing the GUE density for finite N (eq. 10.20)\n",
    "    rho = np.zeros(len(x))\n",
    "    \n",
    "    for j in range(N):\n",
    "        rho = np.add(rho, np.multiply(np.power(map(hermite(j), x / np.sqrt(2)), 2), np.exp(-np.power(x, 2) / 2)) / (2 ** j * factorial(j)))\n",
    "    \n",
    "    rho = rho / (N * np.sqrt(2 * np.pi))\n",
    "    \n",
    "else:\n",
    "    # Gaussian Symplectic Ensemble \n",
    "    for nm in range(Nmatr):\n",
    "        A = np.random.randn(N, N) + 1j * np.random.randn(N, N)\n",
    "        B = np.random.randn(N, N) + 1j * np.random.randn(N, N)\n",
    "        M1 = np.hstack((A, B))\n",
    "        M2 = np.hstack((-np.conjugate(B), np.conjugate(A)))\n",
    "        M = np.vstack((M1, M2))\n",
    "        M = mat(M)\n",
    "        M = (M + M.H) / 2\n",
    "        E = np.append(E, np.unique(eigvalsh(M))) # The unique function gets rid of the double eigenvalues\n",
    "     \n",
    "    x = np.linspace(np.min(E), np.max(E), 1000)\n",
    "    \n",
    "    # Computing the GSE density for finite N (eq. 11.36)\n",
    "    rho = np.zeros(len(x))\n",
    "    \n",
    "    for k in range(int(N)):\n",
    "        if k == 0:\n",
    "            Q_2k = np.ones(len(x)) * np.sqrt(2) / (np.pi ** (1/4))\n",
    "            Q_2k_tilde = np.ones(len(x))\n",
    "            Q_2k_der = np.zeros(len(x))\n",
    "            Q_2k_tilde_der = np.zeros(len(x))\n",
    "        else:\n",
    "            Q_2k_tilde = np.add(4 * k * Q_2k_tilde_old, np.array(map(hermite(2 * k), x / np.sqrt(2))))\n",
    "            Q_2k = Q_2k_tilde * np.sqrt(2) / (np.pi ** (1/4) * 2 ** k * double_factorial(2 * k))\n",
    "            Q_2k_tilde_der = 4 * k * np.add(Q_2k_tilde_der_old, np.array(map(hermite(2 * k - 1), x / np.sqrt(2))) / np.sqrt(2))\n",
    "            Q_2k_der = Q_2k_tilde_der * np.sqrt(2) / (np.pi ** (1/4) * 2 ** k * double_factorial(2 * k))\n",
    "        \n",
    "        Q_2k1 = np.array(map(hermite(2 * k + 1), x / np.sqrt(2))) * np.sqrt(2) / (np.pi ** (1/4) * 2 ** (k + 1) * double_factorial(2 * k + 1))\n",
    "        Q_2k1_der = (2 * k + 1) * np.array(map(hermite(2 * k), x / np.sqrt(2))) /(np.pi ** (1/4) * 2 ** k * double_factorial(2 * k + 1))\n",
    "        \n",
    "        rho = np.add(rho, np.multiply(np.exp(-x ** 2 / 2), np.multiply(Q_2k, Q_2k1_der) - np.multiply(Q_2k1, Q_2k_der)) / (2 * N))\n",
    "        Q_2k_tilde_old = Q_2k_tilde\n",
    "        Q_2k_tilde_der_old = Q_2k_tilde_der\n",
    "\n",
    "plt.figure(figsize=(5, 5))\n",
    "# Normalized eigenvalue histogram\n",
    "n, bins = histogram(E, bins=50, normed=1)\n",
    "bins_new = []\n",
    "for i in range(len(bins) - 1):\n",
    "    bins_new.append((bins[i] + bins[i + 1]) / 2)\n",
    "plt.plot(bins_new, n, 'or')\n",
    "plt.plot(x, rho, 'b')\n",
    "plt.title('Eigenvalue Density', fontsize=18)\n",
    "plt.xlabel(r'$x$', fontsize=18)\n",
    "plt.ylabel(r'$\\rho(x)$', fontsize=18)\n",
    "plt.show()"
   ]
  },
  {
   "cell_type": "markdown",
   "metadata": {},
   "source": [
    "## Chapter 13 Classical Ensembles: Wishart-Laguerre & Chapter 14 Meet Marčenko and Pastur\n",
    "\n",
    "+ This program plots a histogram of the **eigenvalue densities obtained via numerical diagonalization of Wishart-Laguerre random matrices** (for beta = 1,2,4) and compares them with the **Marčenko-Pastur density** for the corresponding matrix size. You will be asked to provide the sizes of the rectangular NxM matrices H used to build Wishart-Laguerre matrices of the type W = X'*X, and the number of matrices to be diagonalized.\n",
    "\n",
    "+ Historically, one of the **earliest appearances** of a random matrix ensemble1 occurred in **1928**, when the Scottish mathematician **John Wishart** published a paper on multivariate data analysis in the journal Biometrika.\n",
    "\n",
    "+ In Mathematics, however, the **1897** work by **Hurwitz** on the volume form of a general unitary matrix is of historical significance.\n",
    "\n",
    "+ The Wishart ensemble is also referred to as **“Laguerre”**, since its spectral properties involve Laguerre polynomials, and also **“chiral”** in the context of applications to **Quantum Chromodynamics (QCD)**."
   ]
  },
  {
   "cell_type": "code",
   "execution_count": 22,
   "metadata": {
    "collapsed": true
   },
   "outputs": [],
   "source": [
    "import numpy as np\n",
    "from numpy import mat\n",
    "from numpy.linalg import eigvalsh\n",
    "import matplotlib.pyplot as plt \n",
    "\n",
    "from __future__ import division"
   ]
  },
  {
   "cell_type": "code",
   "execution_count": 23,
   "metadata": {},
   "outputs": [
    {
     "name": "stdout",
     "output_type": "stream",
     "text": [
      "100\n",
      "200\n"
     ]
    },
    {
     "data": {
      "image/png": "[encoded data removed]",
      "text/plain": [
       "<matplotlib.figure.Figure at 0x108fd67d0>"
      ]
     },
     "metadata": {},
     "output_type": "display_data"
    }
   ],
   "source": [
    "# Choose first matrix size: \n",
    "N = input()\n",
    "#N = 100\n",
    "\n",
    "# Choose second matrix size: \n",
    "M = input()\n",
    "# M = 200\n",
    "# M = 800\n",
    "\n",
    "while N >= M:\n",
    "    print 'ERROR: N must be less than M\\n'\n",
    "    N = input()\n",
    "    M = input()\n",
    "\n",
    "# Defining the Marcenko-Pastur density function\n",
    "c = N / M\n",
    "xmin = (1 - 1 / np.sqrt(c)) ** 2\n",
    "xmax = (1 + 1 / np.sqrt(c)) ** 2\n",
    "rho = lambda x: np.sqrt((x - xmin) * (xmax - x)) / (2 * np.pi * x)\n",
    "\n",
    "# Choose number of matrices to be diagonalized: \n",
    "Nmatr = 5000\n",
    "\n",
    "x1 = []; x2 = []; x4 = []\n",
    "\n",
    "for nm in range(Nmatr):\n",
    "    # beta = 1\n",
    "    beta = 1\n",
    "    H = np.random.randn(N, M)\n",
    "    W = np.dot(H, H.T)\n",
    "    x1 = np.append(x1, eigvalsh(W) / (beta * N)) # Notice the rescaling of the eigenvalues\n",
    "    \n",
    "    # beta = 2\n",
    "    H = np.random.randn(N, M) + 1j * np.random.randn(N, M)\n",
    "    H = mat(H)\n",
    "    W = np.dot(H, H.H)\n",
    "    x2 = np.append(x2, eigvalsh(W) / (beta * N)) # Notice the rescaling of the eigenvalues\n",
    "    \n",
    "    # beta = 4\n",
    "    beta = 4\n",
    "    A = np.random.randn(N, N) + 1j * np.random.randn(N, N)\n",
    "    B = np.random.randn(N, N) + 1j * np.random.randn(N, N)\n",
    "    H1 = np.hstack((A, B))\n",
    "    H2 = np.hstack((-np.conjugate(B), np.conjugate(A)))\n",
    "    H = np.vstack((H1, H2))\n",
    "    H = mat(H)\n",
    "    W = np.dot(H, H.H)\n",
    "    x4 = np.append(x4, np.unique(eigvalsh(W)) / (beta * N)) # Notice the rescaling of the eigenvalues\n",
    "    \n",
    "    \n",
    "plt.figure(figsize=(5, 5))\n",
    "\n",
    "x = np.linspace(xmin, xmax, 1000)\n",
    "MP, = plt.plot(x, rho(x), 'b')\n",
    "\n",
    "# Plotting the histograms for the three numerical eigenvalue densities\n",
    "n1, bins1 = histogram(x1, bins=15, normed=1)\n",
    "n2, bins2 = histogram(x2, bins=15, normed=1)\n",
    "n4, bins4 = histogram(x4, bins=15, normed=1)\n",
    "bins_new1 = []\n",
    "for i in range(len(bins1) - 1):\n",
    "    bins_new1.append((bins1[i] + bins1[i + 1]) / 2)\n",
    "\n",
    "bins_new2 = []\n",
    "for i in range(len(bins2) - 1):\n",
    "    bins_new2.append((bins2[i] + bins2[i + 1]) / 2)\n",
    "    \n",
    "bins_new4 = []\n",
    "for i in range(len(bins4) - 1):\n",
    "    bins_new4.append((bins4[i] + bins4[i + 1]) / 2)\n",
    "\n",
    "beta1, = plt.plot(bins_new1, n1, 'ob')\n",
    "beta2, = plt.plot(bins_new2, n2, 'or')\n",
    "beta4, = plt.plot(bins_new4, n4, 'om')\n",
    "\n",
    "plt.title(r'Mar$c\\check$enko-Pastur density', fontsize=18)\n",
    "plt.xlabel(r'$x$', fontsize=18)\n",
    "plt.ylabel(r'$\\rho(x)$', fontsize=18)\n",
    "plt.legend(handles=[MP, beta1, beta2, beta4], labels=['MP density', r'$\\beta$ = 1', r'$\\beta$ = 2', r'$\\beta$ = 4'], loc='upper right')\n",
    "plt.show()"
   ]
  },
  {
   "cell_type": "markdown",
   "metadata": {},
   "source": [
    "## Chapter 15 Replicas...\n",
    "\n",
    "+ This program provides a numerical verification that equations (15.2) and (15.6) coincide in a 2x2 case. The program generates a random 2x2 GOE matrix H and uses it to compute the numerical value of Z(x) according to the two formulas. You will be asked to choose the real and imaginary parts of the number x (imaginary part has to be positive)."
   ]
  },
  {
   "cell_type": "code",
   "execution_count": 24,
   "metadata": {
    "collapsed": true
   },
   "outputs": [],
   "source": [
    "import numpy as np\n",
    "from numpy.linalg import eigvalsh\n",
    "from scipy.integrate import nquad"
   ]
  },
  {
   "cell_type": "code",
   "execution_count": 25,
   "metadata": {},
   "outputs": [
    {
     "name": "stdout",
     "output_type": "stream",
     "text": [
      "0.2\n",
      "4.4\n",
      "Value of Z function computed as integral: 1.4198+0.0000i\n",
      "Value of Z function computed explicitly via eigenvalues of H: 1.4198-0.0253i\n"
     ]
    },
    {
     "name": "stderr",
     "output_type": "stream",
     "text": [
      "/Users/brucelee/miniconda2/lib/python2.7/site-packages/scipy/integrate/quadpack.py:390: ComplexWarning: Casting complex values to real discards the imaginary part\n",
      "  return _quadpack._qagie(func,bound,infbounds,args,full_output,epsabs,epsrel,limit)\n"
     ]
    }
   ],
   "source": [
    "# Choose real part of argument x: \n",
    "#re = 0.2\n",
    "re = input()\n",
    "\n",
    "# Choose imaginary part of argument x: \n",
    "# im = 4.4\n",
    "im = input()\n",
    "\n",
    "while im <= 0:\n",
    "    print 'ERROR: Imaginary part has to be positive'\n",
    "    im = input()\n",
    "\n",
    "x = re - 1j * im\n",
    "\n",
    "# Generating 2x2 GOE matrix\n",
    "H = np.random.randn(2, 2) / np.sqrt(2)\n",
    "H = (H + H.T) / 2\n",
    "\n",
    "# Eigenvalues of matrix H\n",
    "E = eigvalsh(H)\n",
    "\n",
    "# Definition of integrand function for Z\n",
    "f = lambda y1, y2: np.exp(- 1j * ((x - H[0, 0]) * y1 ** 2 + 2 * H[0, 1] * y1 * y2 + (x - H[1, 1]) * y2 ** 2) / 2)\n",
    "\n",
    "# Z function\n",
    "Z = nquad(f, [[-np.Inf, np.Inf], [-np.Inf, np.Inf]])[0]\n",
    "\n",
    "# Explicit form of Z function\n",
    "Z_exp = 2 * np.pi * np.exp(-(np.log(E[0] - x) + np.log(E[1] - x)) / 2 + 1j * np.pi / 2)\n",
    "\n",
    "print 'Value of Z function computed as integral: %6.4f%+6.4fi' % (Z.real, Z.imag)\n",
    "print 'Value of Z function computed explicitly via eigenvalues of H: %6.4f%+6.4fi' % (Z_exp.real, Z_exp.imag)"
   ]
  },
  {
   "cell_type": "markdown",
   "metadata": {},
   "source": [
    "## Chapter 17 Born to be free\n",
    "\n",
    "+ This program presents a numerical verification of the **free addition** example discussed in section 17.4, i.e. that of the addition of GOE and Wishart random matrices. You will be asked to select the size of the matrices (including the size of the rectangular matrices used to build Wishart matrices), the number of matrices to be numerically diagonalized, and the relative weight p between the two ensembles (with p=1 coinciding with the GOE and p=0 coinciding with the Wishart ensemble).\n",
    "\n",
    "+ **Two random matrices are free if the traces of all non-commutative products of matrix polynomials, whose traces are zero, are zero.**"
   ]
  },
  {
   "cell_type": "markdown",
   "metadata": {},
   "source": [
    "> 这里补充介绍Python中调用Matlab函数: \n",
    "\n",
    "+ sympy中的solve, solveset求解复杂的代数方程异常慢, 建议选择Matlab, Mathematica或Maple等专门软件来处理这类符号计算问题.\n"
   ]
  },
  {
   "cell_type": "code",
   "execution_count": 26,
   "metadata": {
    "collapsed": true
   },
   "outputs": [],
   "source": [
    "#matlab\n",
    "#syms G z a w\n",
    "\n",
    "#sol = solve('w^2*G/2 + (1-w)*(1+a)/(1-(1-w)*G) + 1/G - z', 'G');\n",
    "#sol = subs(sol,[a,w],[alpha,p]);\n",
    "#sol = vpa(sol);"
   ]
  },
  {
   "cell_type": "markdown",
   "metadata": {},
   "source": [
    "+ 当然也可以在Python中调用Matlab函数, 详细说明见[MathWorks教程](https://www.mathworks.com/help/matlab/matlab-engine-for-python.html)\n",
    "\n",
    "    + 首先进入Matlab应用中相应的python目录中: cd /Applications/MATLAB_R2014b.app/extern/engines/python\n",
    "    + 在root权限下安装python支持: sudo python setup.py install"
   ]
  },
  {
   "cell_type": "code",
   "execution_count": 27,
   "metadata": {
    "collapsed": true
   },
   "outputs": [],
   "source": [
    "import matlab\n",
    "import matlab.engine as engine"
   ]
  },
  {
   "cell_type": "code",
   "execution_count": 28,
   "metadata": {},
   "outputs": [
    {
     "name": "stdout",
     "output_type": "stream",
     "text": [
      "1.41421356237\n"
     ]
    }
   ],
   "source": [
    "eng = engine.start_matlab()\n",
    "future = eng.sqrt(2.0, async=True)\n",
    "res = future.result()\n",
    "print(res)\n",
    "eng.quit()"
   ]
  },
  {
   "cell_type": "markdown",
   "metadata": {},
   "source": [
    "+ Hybrid computation of numerical and symbolical Python"
   ]
  },
  {
   "cell_type": "code",
   "execution_count": 29,
   "metadata": {
    "collapsed": true
   },
   "outputs": [],
   "source": [
    "import numpy as np\n",
    "from numpy import histogram\n",
    "from numpy.linalg import eigvalsh\n",
    "import matplotlib.pyplot as plt\n",
    "\n",
    "from sympy import symbols, solve\n",
    "\n",
    "from __future__ import division"
   ]
  },
  {
   "cell_type": "code",
   "execution_count": 30,
   "metadata": {
    "scrolled": true
   },
   "outputs": [
    {
     "name": "stdout",
     "output_type": "stream",
     "text": [
      "100\n",
      "200\n",
      "0.5\n"
     ]
    },
    {
     "data": {
      "image/png": "[encoded data removed]",
      "text/plain": [
       "<matplotlib.figure.Figure at 0x109966650>"
      ]
     },
     "metadata": {},
     "output_type": "display_data"
    }
   ],
   "source": [
    "# Choose size of GOE and Wishart matrices: \n",
    "#N = 100\n",
    "N = input()\n",
    "\n",
    "# Choose second dimension of rectangular matrices used to build Wishart matrices: \n",
    "#T = 200\n",
    "T = input()\n",
    "\n",
    "while N >= T:\n",
    "    print 'ERROR: T must be larger than N\\n'\n",
    "    N = input()\n",
    "    T = input()\n",
    "    \n",
    "# Parameters associated with Wishart matrices to be used in later calculations\n",
    "c = N / float(T)\n",
    "alpha = (1 - c) / c\n",
    "\n",
    "# Choose relative weight of GOE matrices: \n",
    "# p = 0.3\n",
    "# p = 0.5\n",
    "# p = 0.7\n",
    "p = input()\n",
    "\n",
    "# Choose number of matrices to be diagonalized: \n",
    "Nmatr = 200\n",
    "\n",
    "E = []\n",
    "\n",
    "for nm in range(Nmatr):\n",
    "    # Generating GOE matrix\n",
    "    M = np.random.randn(N, N)\n",
    "    M = (M + M.T) / 2\n",
    "    \n",
    "    # Generating Wishart matrix\n",
    "    H = np.random.randn(N, T)\n",
    "    W = np.dot(H, H.T)\n",
    "    \n",
    "    # Sum of rescaled GOE and rescaled Wishart\n",
    "    H = p * M / np.sqrt(N) + (1 - p) * W / N\n",
    "    \n",
    "    E = np.append(E, eigvalsh(H))\n",
    "    \n",
    "# In the following the analytical solution for the eigenvalue density is\n",
    "# computed on a support ranging from the minimum to the maximum of the\n",
    "# numerically obtained eigenvalues. The density is computed in a number\n",
    "# Npts of points\n",
    "Npts = 100\n",
    "x = np.linspace(np.min(E), np.max(E), Npts)\n",
    "\n",
    "# Defining symbolic variables: G denotes the resolvent, z denotes the\n",
    "# complex variable the resolvent is a function of, whereas a and w are\n",
    "# the symbolic variables that will be eventually replaced, respectively,\n",
    "# by the numerical values of the parameter alpha = (1-c)/c and of the\n",
    "# relative weight p.\n",
    "G, z, a, w = symbols('G, z, a, w')\n",
    "\n",
    "# Here the symbolic solution for the resolvent G is obtained, initially\n",
    "# as a function of z, a, and w. Then, the numerical values of alpha and p\n",
    "# are used to replace a and w. The sol variable is a 3-dimensional vector\n",
    "# whose components represent solutions of the 3rd degree polynomial\n",
    "# equation for G.\n",
    "expr = w ** 2 * G / 2 + (1 - w) * (1 + a) / (1 - (1 - w) * G) + 1 / G - z\n",
    "expr = expr.subs({a:alpha, w:p})\n",
    "sol = solve(expr, G)\n",
    "    \n",
    "G = []\n",
    "\n",
    "for i in range(Npts):\n",
    "    # Replacing the symbolic variable z with the numerical value of the\n",
    "    # point x(i) where the resolvent is being computed\n",
    "    tmp = [complex(s.subs({z: x[i]})) for s in sol]\n",
    "    \n",
    "    # The following if condition selects solutions with a non-zero \n",
    "    # imaginary part (see Eq. 8.8)\n",
    "    if tmp[0].imag == 0:\n",
    "        G.append(abs(tmp[1].imag) / np.pi)\n",
    "    else:\n",
    "        G.append(abs(tmp[0].imag) / np.pi)\n",
    "        \n",
    "plt.figure(figsize=(5, 5))\n",
    "# Normalized eigenvalue histogram\n",
    "n, bins = histogram(E, bins=30, normed=1)\n",
    "bins_new = []\n",
    "for i in range(len(bins) - 1):\n",
    "    bins_new.append((bins[i] + bins[i + 1]) / 2)\n",
    "plt.plot(bins_new, n, 'o')\n",
    "\n",
    "plt.plot(x, G, 'r')\n",
    "\n",
    "plt.title('GOE + Wishart free sum', fontsize=18)\n",
    "plt.xlabel(r'$x$', fontsize=18)\n",
    "plt.ylabel(r'$\\rho(x)$', fontsize=18)\n",
    "plt.show()"
   ]
  }
 ],
 "metadata": {
  "kernelspec": {
   "display_name": "Python 2",
   "language": "python",
   "name": "python2"
  },
  "language_info": {
   "codemirror_mode": {
    "name": "ipython",
    "version": 2
   },
   "file_extension": ".py",
   "mimetype": "text/x-python",
   "name": "python",
   "nbconvert_exporter": "python",
   "pygments_lexer": "ipython2",
   "version": "2.7.13"
  }
 },
 "nbformat": 4,
 "nbformat_minor": 2
}
